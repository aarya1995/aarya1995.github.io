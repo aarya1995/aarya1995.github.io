{
 "cells": [
  {
   "cell_type": "markdown",
   "metadata": {},
   "source": [
    "# Finding the Hollywood Formula: IMDB Movie Dataset Analysis\n",
    "\n",
    "<img src=\"dataset-cover.png\"/>"
   ]
  },
  {
   "cell_type": "markdown",
   "metadata": {},
   "source": [
    "### Motivation\n",
    "As a group, we are huge movie fanatics and enjoy great films such as the Godfather, Casablanca, and any Tarantino flick. As data scientists we wanted to dig deeper into the business side of movies and explore the economics behind what makes a successful movie. Basically we wanted to to examine whether there are any trends among films that lead them to become successful at the box office, and whether a film's box office success correlates with its ratings. A useful analysis would help us predict how well a film does at the box office before it screens, without having to rely on critics or our own instinct. Essentially we want to determine if there is a \"Hollywood formula\" to making a successful movie. "
   ]
  },
  {
   "cell_type": "markdown",
   "metadata": {},
   "source": [
    "### Background\n",
    "We found an interesting dataset of more than 5000 data points consisting of 28 attributes describing IMDB movies here: https://www.kaggle.com/deepmatrix/imdb-5000-movie-dataset.\n",
    "\n",
    "You can read more about the dataset here: https://blog.nycdatascience.com/student-works/machine-learning/movie-rating-prediction/. "
   ]
  },
  {
   "cell_type": "markdown",
   "metadata": {},
   "source": [
    "### Original Problem\n",
    "Kaggle user [chuansun76](https://www.kaggle.com/deepmatrix) was trying to solve the following problem:\n",
    "> 1. Given that thousands of movies were produced each year, is there a better way for us to tell the greatness of movie without relying on critics or our own instincts?\n",
    "2. Will the number of human faces in movie poster correlate with the movie rating?"
   ]
  },
  {
   "cell_type": "markdown",
   "metadata": {},
   "source": [
    "### Our Problem\n",
    "We decided to tackle the problem by trying to answer the following questions: \n",
    "1. Does the genre, imdb score, and popularity of the cast impact a film's success at the box office?\n",
    "2. Are there any movies with a high gross-to-budget ratio (ROI), and why? "
   ]
  },
  {
   "cell_type": "markdown",
   "metadata": {},
   "source": [
    "First, let's install any packages and libraries we might need."
   ]
  },
  {
   "cell_type": "code",
   "execution_count": 1,
   "metadata": {
    "collapsed": true
   },
   "outputs": [],
   "source": [
    "from bs4 import BeautifulSoup\n",
    "import pandas as pd\n",
    "import requests\n",
    "import numpy as np\n",
    "from ggplot import *\n",
    "import seaborn as sns\n",
    "import matplotlib.pyplot as plt\n",
    "\n",
    "%matplotlib inline"
   ]
  },
  {
   "cell_type": "markdown",
   "metadata": {},
   "source": [
    "## I. Data Collection"
   ]
  },
  {
   "cell_type": "markdown",
   "metadata": {},
   "source": [
    "We provided two ways to obtain the data scraped by chuansun76: either downloading the data directly online or simply reading in the downloaded file from our data folder."
   ]
  },
  {
   "cell_type": "code",
   "execution_count": 2,
   "metadata": {
    "collapsed": false
   },
   "outputs": [
    {
     "data": {
      "text/html": [
       "<div>\n",
       "<table border=\"1\" class=\"dataframe\">\n",
       "  <thead>\n",
       "    <tr style=\"text-align: right;\">\n",
       "      <th></th>\n",
       "      <th>color</th>\n",
       "      <th>director_name</th>\n",
       "      <th>num_critic_for_reviews</th>\n",
       "      <th>duration</th>\n",
       "      <th>director_facebook_likes</th>\n",
       "      <th>actor_3_facebook_likes</th>\n",
       "      <th>actor_2_name</th>\n",
       "      <th>actor_1_facebook_likes</th>\n",
       "      <th>gross</th>\n",
       "      <th>genres</th>\n",
       "      <th>...</th>\n",
       "      <th>num_user_for_reviews</th>\n",
       "      <th>language</th>\n",
       "      <th>country</th>\n",
       "      <th>content_rating</th>\n",
       "      <th>budget</th>\n",
       "      <th>title_year</th>\n",
       "      <th>actor_2_facebook_likes</th>\n",
       "      <th>imdb_score</th>\n",
       "      <th>aspect_ratio</th>\n",
       "      <th>movie_facebook_likes</th>\n",
       "    </tr>\n",
       "  </thead>\n",
       "  <tbody>\n",
       "    <tr>\n",
       "      <th>0</th>\n",
       "      <td>Color</td>\n",
       "      <td>James Cameron</td>\n",
       "      <td>723.0</td>\n",
       "      <td>178.0</td>\n",
       "      <td>0.0</td>\n",
       "      <td>855.0</td>\n",
       "      <td>Joel David Moore</td>\n",
       "      <td>1000.0</td>\n",
       "      <td>760505847.0</td>\n",
       "      <td>Action|Adventure|Fantasy|Sci-Fi</td>\n",
       "      <td>...</td>\n",
       "      <td>3054.0</td>\n",
       "      <td>English</td>\n",
       "      <td>USA</td>\n",
       "      <td>PG-13</td>\n",
       "      <td>237000000.0</td>\n",
       "      <td>2009.0</td>\n",
       "      <td>936.0</td>\n",
       "      <td>7.9</td>\n",
       "      <td>1.78</td>\n",
       "      <td>33000</td>\n",
       "    </tr>\n",
       "    <tr>\n",
       "      <th>1</th>\n",
       "      <td>Color</td>\n",
       "      <td>Gore Verbinski</td>\n",
       "      <td>302.0</td>\n",
       "      <td>169.0</td>\n",
       "      <td>563.0</td>\n",
       "      <td>1000.0</td>\n",
       "      <td>Orlando Bloom</td>\n",
       "      <td>40000.0</td>\n",
       "      <td>309404152.0</td>\n",
       "      <td>Action|Adventure|Fantasy</td>\n",
       "      <td>...</td>\n",
       "      <td>1238.0</td>\n",
       "      <td>English</td>\n",
       "      <td>USA</td>\n",
       "      <td>PG-13</td>\n",
       "      <td>300000000.0</td>\n",
       "      <td>2007.0</td>\n",
       "      <td>5000.0</td>\n",
       "      <td>7.1</td>\n",
       "      <td>2.35</td>\n",
       "      <td>0</td>\n",
       "    </tr>\n",
       "    <tr>\n",
       "      <th>2</th>\n",
       "      <td>Color</td>\n",
       "      <td>Sam Mendes</td>\n",
       "      <td>602.0</td>\n",
       "      <td>148.0</td>\n",
       "      <td>0.0</td>\n",
       "      <td>161.0</td>\n",
       "      <td>Rory Kinnear</td>\n",
       "      <td>11000.0</td>\n",
       "      <td>200074175.0</td>\n",
       "      <td>Action|Adventure|Thriller</td>\n",
       "      <td>...</td>\n",
       "      <td>994.0</td>\n",
       "      <td>English</td>\n",
       "      <td>UK</td>\n",
       "      <td>PG-13</td>\n",
       "      <td>245000000.0</td>\n",
       "      <td>2015.0</td>\n",
       "      <td>393.0</td>\n",
       "      <td>6.8</td>\n",
       "      <td>2.35</td>\n",
       "      <td>85000</td>\n",
       "    </tr>\n",
       "    <tr>\n",
       "      <th>3</th>\n",
       "      <td>Color</td>\n",
       "      <td>Christopher Nolan</td>\n",
       "      <td>813.0</td>\n",
       "      <td>164.0</td>\n",
       "      <td>22000.0</td>\n",
       "      <td>23000.0</td>\n",
       "      <td>Christian Bale</td>\n",
       "      <td>27000.0</td>\n",
       "      <td>448130642.0</td>\n",
       "      <td>Action|Thriller</td>\n",
       "      <td>...</td>\n",
       "      <td>2701.0</td>\n",
       "      <td>English</td>\n",
       "      <td>USA</td>\n",
       "      <td>PG-13</td>\n",
       "      <td>250000000.0</td>\n",
       "      <td>2012.0</td>\n",
       "      <td>23000.0</td>\n",
       "      <td>8.5</td>\n",
       "      <td>2.35</td>\n",
       "      <td>164000</td>\n",
       "    </tr>\n",
       "    <tr>\n",
       "      <th>4</th>\n",
       "      <td>NaN</td>\n",
       "      <td>Doug Walker</td>\n",
       "      <td>NaN</td>\n",
       "      <td>NaN</td>\n",
       "      <td>131.0</td>\n",
       "      <td>NaN</td>\n",
       "      <td>Rob Walker</td>\n",
       "      <td>131.0</td>\n",
       "      <td>NaN</td>\n",
       "      <td>Documentary</td>\n",
       "      <td>...</td>\n",
       "      <td>NaN</td>\n",
       "      <td>NaN</td>\n",
       "      <td>NaN</td>\n",
       "      <td>NaN</td>\n",
       "      <td>NaN</td>\n",
       "      <td>NaN</td>\n",
       "      <td>12.0</td>\n",
       "      <td>7.1</td>\n",
       "      <td>NaN</td>\n",
       "      <td>0</td>\n",
       "    </tr>\n",
       "  </tbody>\n",
       "</table>\n",
       "<p>5 rows × 28 columns</p>\n",
       "</div>"
      ],
      "text/plain": [
       "   color      director_name  num_critic_for_reviews  duration  \\\n",
       "0  Color      James Cameron                   723.0     178.0   \n",
       "1  Color     Gore Verbinski                   302.0     169.0   \n",
       "2  Color         Sam Mendes                   602.0     148.0   \n",
       "3  Color  Christopher Nolan                   813.0     164.0   \n",
       "4    NaN        Doug Walker                     NaN       NaN   \n",
       "\n",
       "   director_facebook_likes  actor_3_facebook_likes      actor_2_name  \\\n",
       "0                      0.0                   855.0  Joel David Moore   \n",
       "1                    563.0                  1000.0     Orlando Bloom   \n",
       "2                      0.0                   161.0      Rory Kinnear   \n",
       "3                  22000.0                 23000.0    Christian Bale   \n",
       "4                    131.0                     NaN        Rob Walker   \n",
       "\n",
       "   actor_1_facebook_likes        gross                           genres  \\\n",
       "0                  1000.0  760505847.0  Action|Adventure|Fantasy|Sci-Fi   \n",
       "1                 40000.0  309404152.0         Action|Adventure|Fantasy   \n",
       "2                 11000.0  200074175.0        Action|Adventure|Thriller   \n",
       "3                 27000.0  448130642.0                  Action|Thriller   \n",
       "4                   131.0          NaN                      Documentary   \n",
       "\n",
       "          ...          num_user_for_reviews language  country  content_rating  \\\n",
       "0         ...                        3054.0  English      USA           PG-13   \n",
       "1         ...                        1238.0  English      USA           PG-13   \n",
       "2         ...                         994.0  English       UK           PG-13   \n",
       "3         ...                        2701.0  English      USA           PG-13   \n",
       "4         ...                           NaN      NaN      NaN             NaN   \n",
       "\n",
       "        budget  title_year actor_2_facebook_likes imdb_score  aspect_ratio  \\\n",
       "0  237000000.0      2009.0                  936.0        7.9          1.78   \n",
       "1  300000000.0      2007.0                 5000.0        7.1          2.35   \n",
       "2  245000000.0      2015.0                  393.0        6.8          2.35   \n",
       "3  250000000.0      2012.0                23000.0        8.5          2.35   \n",
       "4          NaN         NaN                   12.0        7.1           NaN   \n",
       "\n",
       "  movie_facebook_likes  \n",
       "0                33000  \n",
       "1                    0  \n",
       "2                85000  \n",
       "3               164000  \n",
       "4                    0  \n",
       "\n",
       "[5 rows x 28 columns]"
      ]
     },
     "execution_count": 2,
     "metadata": {},
     "output_type": "execute_result"
    }
   ],
   "source": [
    "DATA_URL = \"https://raw.githubusercontent.com/sundeepblue/movie_rating_prediction/master/movie_metadata.csv\"\n",
    "FILE_PATH = \"data/movie_metadata.csv\"\n",
    "\n",
    "def load_data_online(data_url):\n",
    "    data = None\n",
    "    SUCCESS = 200\n",
    "    \n",
    "    r = requests.get(data_url)\n",
    "    if r.status_code == SUCCESS:\n",
    "        # Decode data and read it into a DataFrame\n",
    "        content = r.content.decode('utf-8')\n",
    "        cr = csv.reader(content.splitlines(), delimiter=',')\n",
    "        my_list = list(cr)\n",
    "        data = pd.DataFrame(my_list[1:], columns=my_list[0])\n",
    "        return data\n",
    "    \n",
    "# movies_table = load_data_online(DATA_URL)\n",
    "movies_table = pd.read_csv(FILE_PATH)\n",
    "movies_table.head()"
   ]
  },
  {
   "cell_type": "markdown",
   "metadata": {},
   "source": [
    "## II. Data Processing"
   ]
  },
  {
   "cell_type": "markdown",
   "metadata": {},
   "source": [
    "For our analysis we will drop any rows with `nil` values for `gross`, `budget`, `title_year`, and `country`, as those data points won't contribute to our analysis. We will also focus on movies produced domestically, so we will drop all rows for movies produced outside the United States."
   ]
  },
  {
   "cell_type": "code",
   "execution_count": 4,
   "metadata": {
    "collapsed": false
   },
   "outputs": [
    {
     "data": {
      "text/html": [
       "<div>\n",
       "<table border=\"1\" class=\"dataframe\">\n",
       "  <thead>\n",
       "    <tr style=\"text-align: right;\">\n",
       "      <th></th>\n",
       "      <th>color</th>\n",
       "      <th>director_name</th>\n",
       "      <th>num_critic_for_reviews</th>\n",
       "      <th>duration</th>\n",
       "      <th>director_facebook_likes</th>\n",
       "      <th>actor_3_facebook_likes</th>\n",
       "      <th>actor_2_name</th>\n",
       "      <th>actor_1_facebook_likes</th>\n",
       "      <th>gross</th>\n",
       "      <th>genres</th>\n",
       "      <th>...</th>\n",
       "      <th>num_user_for_reviews</th>\n",
       "      <th>language</th>\n",
       "      <th>country</th>\n",
       "      <th>content_rating</th>\n",
       "      <th>budget</th>\n",
       "      <th>title_year</th>\n",
       "      <th>actor_2_facebook_likes</th>\n",
       "      <th>imdb_score</th>\n",
       "      <th>aspect_ratio</th>\n",
       "      <th>movie_facebook_likes</th>\n",
       "    </tr>\n",
       "  </thead>\n",
       "  <tbody>\n",
       "    <tr>\n",
       "      <th>0</th>\n",
       "      <td>Color</td>\n",
       "      <td>James Cameron</td>\n",
       "      <td>723.0</td>\n",
       "      <td>178.0</td>\n",
       "      <td>0.0</td>\n",
       "      <td>855.0</td>\n",
       "      <td>Joel David Moore</td>\n",
       "      <td>1000.0</td>\n",
       "      <td>760505847.0</td>\n",
       "      <td>Action|Adventure|Fantasy|Sci-Fi</td>\n",
       "      <td>...</td>\n",
       "      <td>3054.0</td>\n",
       "      <td>English</td>\n",
       "      <td>USA</td>\n",
       "      <td>PG-13</td>\n",
       "      <td>237000000.0</td>\n",
       "      <td>2009.0</td>\n",
       "      <td>936.0</td>\n",
       "      <td>7.9</td>\n",
       "      <td>1.78</td>\n",
       "      <td>33000</td>\n",
       "    </tr>\n",
       "    <tr>\n",
       "      <th>1</th>\n",
       "      <td>Color</td>\n",
       "      <td>Gore Verbinski</td>\n",
       "      <td>302.0</td>\n",
       "      <td>169.0</td>\n",
       "      <td>563.0</td>\n",
       "      <td>1000.0</td>\n",
       "      <td>Orlando Bloom</td>\n",
       "      <td>40000.0</td>\n",
       "      <td>309404152.0</td>\n",
       "      <td>Action|Adventure|Fantasy</td>\n",
       "      <td>...</td>\n",
       "      <td>1238.0</td>\n",
       "      <td>English</td>\n",
       "      <td>USA</td>\n",
       "      <td>PG-13</td>\n",
       "      <td>300000000.0</td>\n",
       "      <td>2007.0</td>\n",
       "      <td>5000.0</td>\n",
       "      <td>7.1</td>\n",
       "      <td>2.35</td>\n",
       "      <td>0</td>\n",
       "    </tr>\n",
       "    <tr>\n",
       "      <th>3</th>\n",
       "      <td>Color</td>\n",
       "      <td>Christopher Nolan</td>\n",
       "      <td>813.0</td>\n",
       "      <td>164.0</td>\n",
       "      <td>22000.0</td>\n",
       "      <td>23000.0</td>\n",
       "      <td>Christian Bale</td>\n",
       "      <td>27000.0</td>\n",
       "      <td>448130642.0</td>\n",
       "      <td>Action|Thriller</td>\n",
       "      <td>...</td>\n",
       "      <td>2701.0</td>\n",
       "      <td>English</td>\n",
       "      <td>USA</td>\n",
       "      <td>PG-13</td>\n",
       "      <td>250000000.0</td>\n",
       "      <td>2012.0</td>\n",
       "      <td>23000.0</td>\n",
       "      <td>8.5</td>\n",
       "      <td>2.35</td>\n",
       "      <td>164000</td>\n",
       "    </tr>\n",
       "    <tr>\n",
       "      <th>5</th>\n",
       "      <td>Color</td>\n",
       "      <td>Andrew Stanton</td>\n",
       "      <td>462.0</td>\n",
       "      <td>132.0</td>\n",
       "      <td>475.0</td>\n",
       "      <td>530.0</td>\n",
       "      <td>Samantha Morton</td>\n",
       "      <td>640.0</td>\n",
       "      <td>73058679.0</td>\n",
       "      <td>Action|Adventure|Sci-Fi</td>\n",
       "      <td>...</td>\n",
       "      <td>738.0</td>\n",
       "      <td>English</td>\n",
       "      <td>USA</td>\n",
       "      <td>PG-13</td>\n",
       "      <td>263700000.0</td>\n",
       "      <td>2012.0</td>\n",
       "      <td>632.0</td>\n",
       "      <td>6.6</td>\n",
       "      <td>2.35</td>\n",
       "      <td>24000</td>\n",
       "    </tr>\n",
       "    <tr>\n",
       "      <th>6</th>\n",
       "      <td>Color</td>\n",
       "      <td>Sam Raimi</td>\n",
       "      <td>392.0</td>\n",
       "      <td>156.0</td>\n",
       "      <td>0.0</td>\n",
       "      <td>4000.0</td>\n",
       "      <td>James Franco</td>\n",
       "      <td>24000.0</td>\n",
       "      <td>336530303.0</td>\n",
       "      <td>Action|Adventure|Romance</td>\n",
       "      <td>...</td>\n",
       "      <td>1902.0</td>\n",
       "      <td>English</td>\n",
       "      <td>USA</td>\n",
       "      <td>PG-13</td>\n",
       "      <td>258000000.0</td>\n",
       "      <td>2007.0</td>\n",
       "      <td>11000.0</td>\n",
       "      <td>6.2</td>\n",
       "      <td>2.35</td>\n",
       "      <td>0</td>\n",
       "    </tr>\n",
       "  </tbody>\n",
       "</table>\n",
       "<p>5 rows × 28 columns</p>\n",
       "</div>"
      ],
      "text/plain": [
       "   color      director_name  num_critic_for_reviews  duration  \\\n",
       "0  Color      James Cameron                   723.0     178.0   \n",
       "1  Color     Gore Verbinski                   302.0     169.0   \n",
       "3  Color  Christopher Nolan                   813.0     164.0   \n",
       "5  Color     Andrew Stanton                   462.0     132.0   \n",
       "6  Color          Sam Raimi                   392.0     156.0   \n",
       "\n",
       "   director_facebook_likes  actor_3_facebook_likes      actor_2_name  \\\n",
       "0                      0.0                   855.0  Joel David Moore   \n",
       "1                    563.0                  1000.0     Orlando Bloom   \n",
       "3                  22000.0                 23000.0    Christian Bale   \n",
       "5                    475.0                   530.0   Samantha Morton   \n",
       "6                      0.0                  4000.0      James Franco   \n",
       "\n",
       "   actor_1_facebook_likes        gross                           genres  \\\n",
       "0                  1000.0  760505847.0  Action|Adventure|Fantasy|Sci-Fi   \n",
       "1                 40000.0  309404152.0         Action|Adventure|Fantasy   \n",
       "3                 27000.0  448130642.0                  Action|Thriller   \n",
       "5                   640.0   73058679.0          Action|Adventure|Sci-Fi   \n",
       "6                 24000.0  336530303.0         Action|Adventure|Romance   \n",
       "\n",
       "          ...          num_user_for_reviews language  country  content_rating  \\\n",
       "0         ...                        3054.0  English      USA           PG-13   \n",
       "1         ...                        1238.0  English      USA           PG-13   \n",
       "3         ...                        2701.0  English      USA           PG-13   \n",
       "5         ...                         738.0  English      USA           PG-13   \n",
       "6         ...                        1902.0  English      USA           PG-13   \n",
       "\n",
       "        budget  title_year actor_2_facebook_likes imdb_score  aspect_ratio  \\\n",
       "0  237000000.0      2009.0                  936.0        7.9          1.78   \n",
       "1  300000000.0      2007.0                 5000.0        7.1          2.35   \n",
       "3  250000000.0      2012.0                23000.0        8.5          2.35   \n",
       "5  263700000.0      2012.0                  632.0        6.6          2.35   \n",
       "6  258000000.0      2007.0                11000.0        6.2          2.35   \n",
       "\n",
       "  movie_facebook_likes  \n",
       "0                33000  \n",
       "1                    0  \n",
       "3               164000  \n",
       "5                24000  \n",
       "6                    0  \n",
       "\n",
       "[5 rows x 28 columns]"
      ]
     },
     "execution_count": 4,
     "metadata": {},
     "output_type": "execute_result"
    }
   ],
   "source": [
    "movies_table = pd.read_csv(\"data/movie_metadata.csv\")\n",
    "\n",
    "# replace na values with 0\n",
    "movies_table[\"gross\"].fillna(0, inplace=True)\n",
    "movies_table[\"budget\"].fillna(0, inplace=True)\n",
    "movies_table[\"title_year\"].fillna(0, inplace=True)\n",
    "movies_table[\"country\"].fillna(\"NaN\", inplace=True)\n",
    "\n",
    "# only consider movies made in the USA. Drop all other rows\n",
    "movies_table.drop(movies_table[-(movies_table[\"country\"].str.contains(\"USA\"))].index, inplace=True)\n",
    "\n",
    "movies_table.head()"
   ]
  },
  {
   "cell_type": "markdown",
   "metadata": {},
   "source": [
    "To be able to compare movies across different years we will need to convert gross and budget values into real dollar amounts, in terms of 2016 purchasing power. To accomplish this we will use the [Consumer Price Index (CPI)](https://www.bls.gov/cpi/) to adjust for inflation. \n",
    "\n",
    "Let's scrape CPI values for every year from 1912-2016 exclusively. Using [The US Inflation Calculator](http://www.usinflationcalculator.com/) as our source, we'll traverse all the rows in the table to build our DataFrame."
   ]
  },
  {
   "cell_type": "code",
   "execution_count": 5,
   "metadata": {
    "collapsed": false
   },
   "outputs": [
    {
     "data": {
      "text/html": [
       "<div>\n",
       "<table border=\"1\" class=\"dataframe\">\n",
       "  <thead>\n",
       "    <tr style=\"text-align: right;\">\n",
       "      <th></th>\n",
       "      <th>avg_annual_cpi</th>\n",
       "      <th>year</th>\n",
       "    </tr>\n",
       "  </thead>\n",
       "  <tbody>\n",
       "    <tr>\n",
       "      <th>0</th>\n",
       "      <td>9.9</td>\n",
       "      <td>1913</td>\n",
       "    </tr>\n",
       "    <tr>\n",
       "      <th>1</th>\n",
       "      <td>10.0</td>\n",
       "      <td>1914</td>\n",
       "    </tr>\n",
       "    <tr>\n",
       "      <th>2</th>\n",
       "      <td>10.1</td>\n",
       "      <td>1915</td>\n",
       "    </tr>\n",
       "    <tr>\n",
       "      <th>3</th>\n",
       "      <td>10.9</td>\n",
       "      <td>1916</td>\n",
       "    </tr>\n",
       "    <tr>\n",
       "      <th>4</th>\n",
       "      <td>12.8</td>\n",
       "      <td>1917</td>\n",
       "    </tr>\n",
       "  </tbody>\n",
       "</table>\n",
       "</div>"
      ],
      "text/plain": [
       "   avg_annual_cpi  year\n",
       "0             9.9  1913\n",
       "1            10.0  1914\n",
       "2            10.1  1915\n",
       "3            10.9  1916\n",
       "4            12.8  1917"
      ]
     },
     "execution_count": 5,
     "metadata": {},
     "output_type": "execute_result"
    }
   ],
   "source": [
    "url = \"http://www.usinflationcalculator.com/inflation/consumer-price-index-and-annual-percent-changes-from-1913-to-2008/\"\n",
    "\n",
    "r = requests.get(url)\n",
    "data = r.text\n",
    "soup = BeautifulSoup(data, 'html.parser')\n",
    "\n",
    "table = soup.find('table')\n",
    "rows = table.tbody.findAll('tr');\n",
    "\n",
    "years = []\n",
    "cpis = []\n",
    "\n",
    "for row in rows:\n",
    "    year = row.findAll('td')[0].get_text()\n",
    "    if year.isdigit() and int(year) < 2017:\n",
    "        years.append(int(year))\n",
    "        cpis.append(float(row.findAll('td')[13].get_text()))\n",
    "\n",
    "cpi_table = pd.DataFrame({\n",
    "    \"year\": years,\n",
    "    \"avg_annual_cpi\": cpis\n",
    "})\n",
    "\n",
    "cpi_table.head()"
   ]
  },
  {
   "cell_type": "markdown",
   "metadata": {},
   "source": [
    "First we let's define a function to translate the nominal dollars into real dollars in 2016 using the CPI. We'll use this [equation](http://www.nasdaq.com/article/how-to-calculate-the-real-value-of-money-using-the-cpi-formula-cm564346) to calculate the real value:\n",
    "> Past dollars in terms of recent dollars = Dollar amount × Ending-period CPI ÷ Beginning-period CPI."
   ]
  },
  {
   "cell_type": "code",
   "execution_count": 6,
   "metadata": {
    "collapsed": false
   },
   "outputs": [],
   "source": [
    "def get_real_value(nominal_amt, old_cpi, new_cpi):\n",
    "    real_value = (nominal_amt * new_cpi) / old_cpi\n",
    "    return real_value"
   ]
  },
  {
   "cell_type": "markdown",
   "metadata": {},
   "source": [
    "Let's drop all rows in `movies_table` with a `budget`, `gross`, or `year` of 0, as those rows won't contribute to our analysis:"
   ]
  },
  {
   "cell_type": "code",
   "execution_count": 7,
   "metadata": {
    "collapsed": true
   },
   "outputs": [],
   "source": [
    "movies_table.drop(movies_table[(movies_table[\"budget\"] == 0) | (movies_table[\"gross\"] == 0) | \n",
    "                                (movies_table[\"title_year\"] == 0)].index, inplace=True)"
   ]
  },
  {
   "cell_type": "markdown",
   "metadata": {},
   "source": [
    "We're interested in real dollars in *2016* so let's make things easier for ourself and set it to a constant."
   ]
  },
  {
   "cell_type": "code",
   "execution_count": 8,
   "metadata": {
    "collapsed": true
   },
   "outputs": [],
   "source": [
    "CPI_2016 = float(cpi_table[cpi_table['year'] == 2016]['avg_annual_cpi'])"
   ]
  },
  {
   "cell_type": "markdown",
   "metadata": {},
   "source": [
    "Now we're ready to transform the `budget` and `gross` for each movie into real 2016 dollar terms:"
   ]
  },
  {
   "cell_type": "code",
   "execution_count": 9,
   "metadata": {
    "collapsed": true
   },
   "outputs": [],
   "source": [
    "real_domestic_gross = []\n",
    "real_budget_values = []\n",
    "\n",
    "# must transform gross and budget values into real 2016 dollar terms\n",
    "for index, row in movies_table.iterrows():\n",
    "    gross = row['gross']\n",
    "    budget = row['budget']\n",
    "    year = row['title_year']\n",
    "    cpi = float(cpi_table[cpi_table['year'] == int(year)]['avg_annual_cpi'])\n",
    "    \n",
    "    real_gross = get_real_value(gross, cpi, CPI_2016)\n",
    "    real_budget = get_real_value(budget, cpi, CPI_2016)\n",
    "    real_domestic_gross.append(real_gross)\n",
    "    real_budget_values.append(real_budget)\n",
    "\n",
    "movies_table[\"real_domestic_gross\"] = real_domestic_gross\n",
    "movies_table[\"real_budget\"] = real_budget_values"
   ]
  },
  {
   "cell_type": "markdown",
   "metadata": {},
   "source": [
    "We'll also drop the nominal value columns, as those won't contribute to our analysis."
   ]
  },
  {
   "cell_type": "code",
   "execution_count": 10,
   "metadata": {
    "collapsed": false
   },
   "outputs": [
    {
     "data": {
      "text/html": [
       "<div>\n",
       "<table border=\"1\" class=\"dataframe\">\n",
       "  <thead>\n",
       "    <tr style=\"text-align: right;\">\n",
       "      <th></th>\n",
       "      <th>color</th>\n",
       "      <th>director_name</th>\n",
       "      <th>num_critic_for_reviews</th>\n",
       "      <th>duration</th>\n",
       "      <th>director_facebook_likes</th>\n",
       "      <th>actor_3_facebook_likes</th>\n",
       "      <th>actor_2_name</th>\n",
       "      <th>actor_1_facebook_likes</th>\n",
       "      <th>genres</th>\n",
       "      <th>actor_1_name</th>\n",
       "      <th>...</th>\n",
       "      <th>language</th>\n",
       "      <th>country</th>\n",
       "      <th>content_rating</th>\n",
       "      <th>title_year</th>\n",
       "      <th>actor_2_facebook_likes</th>\n",
       "      <th>imdb_score</th>\n",
       "      <th>aspect_ratio</th>\n",
       "      <th>movie_facebook_likes</th>\n",
       "      <th>real_domestic_gross</th>\n",
       "      <th>real_budget</th>\n",
       "    </tr>\n",
       "  </thead>\n",
       "  <tbody>\n",
       "    <tr>\n",
       "      <th>0</th>\n",
       "      <td>Color</td>\n",
       "      <td>James Cameron</td>\n",
       "      <td>723.0</td>\n",
       "      <td>178.0</td>\n",
       "      <td>0.0</td>\n",
       "      <td>855.0</td>\n",
       "      <td>Joel David Moore</td>\n",
       "      <td>1000.0</td>\n",
       "      <td>Action|Adventure|Fantasy|Sci-Fi</td>\n",
       "      <td>CCH Pounder</td>\n",
       "      <td>...</td>\n",
       "      <td>English</td>\n",
       "      <td>USA</td>\n",
       "      <td>PG-13</td>\n",
       "      <td>2009.0</td>\n",
       "      <td>936.0</td>\n",
       "      <td>7.9</td>\n",
       "      <td>1.78</td>\n",
       "      <td>33000</td>\n",
       "      <td>8.507937e+08</td>\n",
       "      <td>2.651368e+08</td>\n",
       "    </tr>\n",
       "    <tr>\n",
       "      <th>1</th>\n",
       "      <td>Color</td>\n",
       "      <td>Gore Verbinski</td>\n",
       "      <td>302.0</td>\n",
       "      <td>169.0</td>\n",
       "      <td>563.0</td>\n",
       "      <td>1000.0</td>\n",
       "      <td>Orlando Bloom</td>\n",
       "      <td>40000.0</td>\n",
       "      <td>Action|Adventure|Fantasy</td>\n",
       "      <td>Johnny Depp</td>\n",
       "      <td>...</td>\n",
       "      <td>English</td>\n",
       "      <td>USA</td>\n",
       "      <td>PG-13</td>\n",
       "      <td>2007.0</td>\n",
       "      <td>5000.0</td>\n",
       "      <td>7.1</td>\n",
       "      <td>2.35</td>\n",
       "      <td>0</td>\n",
       "      <td>3.582208e+08</td>\n",
       "      <td>3.473329e+08</td>\n",
       "    </tr>\n",
       "    <tr>\n",
       "      <th>3</th>\n",
       "      <td>Color</td>\n",
       "      <td>Christopher Nolan</td>\n",
       "      <td>813.0</td>\n",
       "      <td>164.0</td>\n",
       "      <td>22000.0</td>\n",
       "      <td>23000.0</td>\n",
       "      <td>Christian Bale</td>\n",
       "      <td>27000.0</td>\n",
       "      <td>Action|Thriller</td>\n",
       "      <td>Tom Hardy</td>\n",
       "      <td>...</td>\n",
       "      <td>English</td>\n",
       "      <td>USA</td>\n",
       "      <td>PG-13</td>\n",
       "      <td>2012.0</td>\n",
       "      <td>23000.0</td>\n",
       "      <td>8.5</td>\n",
       "      <td>2.35</td>\n",
       "      <td>164000</td>\n",
       "      <td>4.684551e+08</td>\n",
       "      <td>2.613385e+08</td>\n",
       "    </tr>\n",
       "    <tr>\n",
       "      <th>5</th>\n",
       "      <td>Color</td>\n",
       "      <td>Andrew Stanton</td>\n",
       "      <td>462.0</td>\n",
       "      <td>132.0</td>\n",
       "      <td>475.0</td>\n",
       "      <td>530.0</td>\n",
       "      <td>Samantha Morton</td>\n",
       "      <td>640.0</td>\n",
       "      <td>Action|Adventure|Sci-Fi</td>\n",
       "      <td>Daryl Sabara</td>\n",
       "      <td>...</td>\n",
       "      <td>English</td>\n",
       "      <td>USA</td>\n",
       "      <td>PG-13</td>\n",
       "      <td>2012.0</td>\n",
       "      <td>632.0</td>\n",
       "      <td>6.6</td>\n",
       "      <td>2.35</td>\n",
       "      <td>24000</td>\n",
       "      <td>7.637218e+07</td>\n",
       "      <td>2.756598e+08</td>\n",
       "    </tr>\n",
       "    <tr>\n",
       "      <th>6</th>\n",
       "      <td>Color</td>\n",
       "      <td>Sam Raimi</td>\n",
       "      <td>392.0</td>\n",
       "      <td>156.0</td>\n",
       "      <td>0.0</td>\n",
       "      <td>4000.0</td>\n",
       "      <td>James Franco</td>\n",
       "      <td>24000.0</td>\n",
       "      <td>Action|Adventure|Romance</td>\n",
       "      <td>J.K. Simmons</td>\n",
       "      <td>...</td>\n",
       "      <td>English</td>\n",
       "      <td>USA</td>\n",
       "      <td>PG-13</td>\n",
       "      <td>2007.0</td>\n",
       "      <td>11000.0</td>\n",
       "      <td>6.2</td>\n",
       "      <td>2.35</td>\n",
       "      <td>0</td>\n",
       "      <td>3.896268e+08</td>\n",
       "      <td>2.987063e+08</td>\n",
       "    </tr>\n",
       "  </tbody>\n",
       "</table>\n",
       "<p>5 rows × 28 columns</p>\n",
       "</div>"
      ],
      "text/plain": [
       "   color      director_name  num_critic_for_reviews  duration  \\\n",
       "0  Color      James Cameron                   723.0     178.0   \n",
       "1  Color     Gore Verbinski                   302.0     169.0   \n",
       "3  Color  Christopher Nolan                   813.0     164.0   \n",
       "5  Color     Andrew Stanton                   462.0     132.0   \n",
       "6  Color          Sam Raimi                   392.0     156.0   \n",
       "\n",
       "   director_facebook_likes  actor_3_facebook_likes      actor_2_name  \\\n",
       "0                      0.0                   855.0  Joel David Moore   \n",
       "1                    563.0                  1000.0     Orlando Bloom   \n",
       "3                  22000.0                 23000.0    Christian Bale   \n",
       "5                    475.0                   530.0   Samantha Morton   \n",
       "6                      0.0                  4000.0      James Franco   \n",
       "\n",
       "   actor_1_facebook_likes                           genres  actor_1_name  \\\n",
       "0                  1000.0  Action|Adventure|Fantasy|Sci-Fi   CCH Pounder   \n",
       "1                 40000.0         Action|Adventure|Fantasy   Johnny Depp   \n",
       "3                 27000.0                  Action|Thriller     Tom Hardy   \n",
       "5                   640.0          Action|Adventure|Sci-Fi  Daryl Sabara   \n",
       "6                 24000.0         Action|Adventure|Romance  J.K. Simmons   \n",
       "\n",
       "       ...      language  country  content_rating title_year  \\\n",
       "0      ...       English      USA           PG-13     2009.0   \n",
       "1      ...       English      USA           PG-13     2007.0   \n",
       "3      ...       English      USA           PG-13     2012.0   \n",
       "5      ...       English      USA           PG-13     2012.0   \n",
       "6      ...       English      USA           PG-13     2007.0   \n",
       "\n",
       "   actor_2_facebook_likes imdb_score aspect_ratio  movie_facebook_likes  \\\n",
       "0                   936.0        7.9         1.78                 33000   \n",
       "1                  5000.0        7.1         2.35                     0   \n",
       "3                 23000.0        8.5         2.35                164000   \n",
       "5                   632.0        6.6         2.35                 24000   \n",
       "6                 11000.0        6.2         2.35                     0   \n",
       "\n",
       "  real_domestic_gross   real_budget  \n",
       "0        8.507937e+08  2.651368e+08  \n",
       "1        3.582208e+08  3.473329e+08  \n",
       "3        4.684551e+08  2.613385e+08  \n",
       "5        7.637218e+07  2.756598e+08  \n",
       "6        3.896268e+08  2.987063e+08  \n",
       "\n",
       "[5 rows x 28 columns]"
      ]
     },
     "execution_count": 10,
     "metadata": {},
     "output_type": "execute_result"
    }
   ],
   "source": [
    "# drop the gross and budget cols because we won't use the nominal values\n",
    "movies_table.drop(labels='gross', axis=1, inplace=True)\n",
    "movies_table.drop(labels='budget', axis=1, inplace=True)\n",
    "\n",
    "movies_table.head()   "
   ]
  },
  {
   "cell_type": "markdown",
   "metadata": {},
   "source": [
    "Let's also calculate the return on investment (ROI) and absolute profit for each movie. The ROI will show which movie studio earned the greatest profit based on their initial budget for the movie, and will be useful in evaluating the sucess of a film in an economic sense. **We will be storing the ROI values as percentages.**"
   ]
  },
  {
   "cell_type": "code",
   "execution_count": 36,
   "metadata": {
    "collapsed": false
   },
   "outputs": [
    {
     "data": {
      "text/html": [
       "<div>\n",
       "<table border=\"1\" class=\"dataframe\">\n",
       "  <thead>\n",
       "    <tr style=\"text-align: right;\">\n",
       "      <th></th>\n",
       "      <th>color</th>\n",
       "      <th>director_name</th>\n",
       "      <th>num_critic_for_reviews</th>\n",
       "      <th>duration</th>\n",
       "      <th>director_facebook_likes</th>\n",
       "      <th>actor_3_facebook_likes</th>\n",
       "      <th>actor_2_name</th>\n",
       "      <th>actor_1_facebook_likes</th>\n",
       "      <th>genres</th>\n",
       "      <th>actor_1_name</th>\n",
       "      <th>...</th>\n",
       "      <th>content_rating</th>\n",
       "      <th>title_year</th>\n",
       "      <th>actor_2_facebook_likes</th>\n",
       "      <th>imdb_score</th>\n",
       "      <th>aspect_ratio</th>\n",
       "      <th>movie_facebook_likes</th>\n",
       "      <th>real_domestic_gross</th>\n",
       "      <th>real_budget</th>\n",
       "      <th>profit</th>\n",
       "      <th>roi</th>\n",
       "    </tr>\n",
       "  </thead>\n",
       "  <tbody>\n",
       "    <tr>\n",
       "      <th>0</th>\n",
       "      <td>Color</td>\n",
       "      <td>James Cameron</td>\n",
       "      <td>723.0</td>\n",
       "      <td>178.0</td>\n",
       "      <td>0.0</td>\n",
       "      <td>855.0</td>\n",
       "      <td>Joel David Moore</td>\n",
       "      <td>1000.0</td>\n",
       "      <td>Action|Adventure|Fantasy|Sci-Fi</td>\n",
       "      <td>CCH Pounder</td>\n",
       "      <td>...</td>\n",
       "      <td>PG-13</td>\n",
       "      <td>2009.0</td>\n",
       "      <td>936.0</td>\n",
       "      <td>7.9</td>\n",
       "      <td>1.78</td>\n",
       "      <td>33000</td>\n",
       "      <td>8.507937e+08</td>\n",
       "      <td>2.651368e+08</td>\n",
       "      <td>5.856569e+08</td>\n",
       "      <td>120.888543</td>\n",
       "    </tr>\n",
       "    <tr>\n",
       "      <th>1</th>\n",
       "      <td>Color</td>\n",
       "      <td>Gore Verbinski</td>\n",
       "      <td>302.0</td>\n",
       "      <td>169.0</td>\n",
       "      <td>563.0</td>\n",
       "      <td>1000.0</td>\n",
       "      <td>Orlando Bloom</td>\n",
       "      <td>40000.0</td>\n",
       "      <td>Action|Adventure|Fantasy</td>\n",
       "      <td>Johnny Depp</td>\n",
       "      <td>...</td>\n",
       "      <td>PG-13</td>\n",
       "      <td>2007.0</td>\n",
       "      <td>5000.0</td>\n",
       "      <td>7.1</td>\n",
       "      <td>2.35</td>\n",
       "      <td>0</td>\n",
       "      <td>3.582208e+08</td>\n",
       "      <td>3.473329e+08</td>\n",
       "      <td>1.088790e+07</td>\n",
       "      <td>-96.865283</td>\n",
       "    </tr>\n",
       "    <tr>\n",
       "      <th>3</th>\n",
       "      <td>Color</td>\n",
       "      <td>Christopher Nolan</td>\n",
       "      <td>813.0</td>\n",
       "      <td>164.0</td>\n",
       "      <td>22000.0</td>\n",
       "      <td>23000.0</td>\n",
       "      <td>Christian Bale</td>\n",
       "      <td>27000.0</td>\n",
       "      <td>Action|Thriller</td>\n",
       "      <td>Tom Hardy</td>\n",
       "      <td>...</td>\n",
       "      <td>PG-13</td>\n",
       "      <td>2012.0</td>\n",
       "      <td>23000.0</td>\n",
       "      <td>8.5</td>\n",
       "      <td>2.35</td>\n",
       "      <td>164000</td>\n",
       "      <td>4.684551e+08</td>\n",
       "      <td>2.613385e+08</td>\n",
       "      <td>2.071167e+08</td>\n",
       "      <td>-20.747743</td>\n",
       "    </tr>\n",
       "    <tr>\n",
       "      <th>5</th>\n",
       "      <td>Color</td>\n",
       "      <td>Andrew Stanton</td>\n",
       "      <td>462.0</td>\n",
       "      <td>132.0</td>\n",
       "      <td>475.0</td>\n",
       "      <td>530.0</td>\n",
       "      <td>Samantha Morton</td>\n",
       "      <td>640.0</td>\n",
       "      <td>Action|Adventure|Sci-Fi</td>\n",
       "      <td>Daryl Sabara</td>\n",
       "      <td>...</td>\n",
       "      <td>PG-13</td>\n",
       "      <td>2012.0</td>\n",
       "      <td>632.0</td>\n",
       "      <td>6.6</td>\n",
       "      <td>2.35</td>\n",
       "      <td>24000</td>\n",
       "      <td>7.637218e+07</td>\n",
       "      <td>2.756598e+08</td>\n",
       "      <td>-1.992877e+08</td>\n",
       "      <td>-172.294775</td>\n",
       "    </tr>\n",
       "    <tr>\n",
       "      <th>6</th>\n",
       "      <td>Color</td>\n",
       "      <td>Sam Raimi</td>\n",
       "      <td>392.0</td>\n",
       "      <td>156.0</td>\n",
       "      <td>0.0</td>\n",
       "      <td>4000.0</td>\n",
       "      <td>James Franco</td>\n",
       "      <td>24000.0</td>\n",
       "      <td>Action|Adventure|Romance</td>\n",
       "      <td>J.K. Simmons</td>\n",
       "      <td>...</td>\n",
       "      <td>PG-13</td>\n",
       "      <td>2007.0</td>\n",
       "      <td>11000.0</td>\n",
       "      <td>6.2</td>\n",
       "      <td>2.35</td>\n",
       "      <td>0</td>\n",
       "      <td>3.896268e+08</td>\n",
       "      <td>2.987063e+08</td>\n",
       "      <td>9.092051e+07</td>\n",
       "      <td>-69.561898</td>\n",
       "    </tr>\n",
       "  </tbody>\n",
       "</table>\n",
       "<p>5 rows × 30 columns</p>\n",
       "</div>"
      ],
      "text/plain": [
       "   color      director_name  num_critic_for_reviews  duration  \\\n",
       "0  Color      James Cameron                   723.0     178.0   \n",
       "1  Color     Gore Verbinski                   302.0     169.0   \n",
       "3  Color  Christopher Nolan                   813.0     164.0   \n",
       "5  Color     Andrew Stanton                   462.0     132.0   \n",
       "6  Color          Sam Raimi                   392.0     156.0   \n",
       "\n",
       "   director_facebook_likes  actor_3_facebook_likes      actor_2_name  \\\n",
       "0                      0.0                   855.0  Joel David Moore   \n",
       "1                    563.0                  1000.0     Orlando Bloom   \n",
       "3                  22000.0                 23000.0    Christian Bale   \n",
       "5                    475.0                   530.0   Samantha Morton   \n",
       "6                      0.0                  4000.0      James Franco   \n",
       "\n",
       "   actor_1_facebook_likes                           genres  actor_1_name  \\\n",
       "0                  1000.0  Action|Adventure|Fantasy|Sci-Fi   CCH Pounder   \n",
       "1                 40000.0         Action|Adventure|Fantasy   Johnny Depp   \n",
       "3                 27000.0                  Action|Thriller     Tom Hardy   \n",
       "5                   640.0          Action|Adventure|Sci-Fi  Daryl Sabara   \n",
       "6                 24000.0         Action|Adventure|Romance  J.K. Simmons   \n",
       "\n",
       "      ...     content_rating  title_year  actor_2_facebook_likes imdb_score  \\\n",
       "0     ...              PG-13      2009.0                   936.0        7.9   \n",
       "1     ...              PG-13      2007.0                  5000.0        7.1   \n",
       "3     ...              PG-13      2012.0                 23000.0        8.5   \n",
       "5     ...              PG-13      2012.0                   632.0        6.6   \n",
       "6     ...              PG-13      2007.0                 11000.0        6.2   \n",
       "\n",
       "   aspect_ratio movie_facebook_likes real_domestic_gross   real_budget  \\\n",
       "0          1.78                33000        8.507937e+08  2.651368e+08   \n",
       "1          2.35                    0        3.582208e+08  3.473329e+08   \n",
       "3          2.35               164000        4.684551e+08  2.613385e+08   \n",
       "5          2.35                24000        7.637218e+07  2.756598e+08   \n",
       "6          2.35                    0        3.896268e+08  2.987063e+08   \n",
       "\n",
       "         profit         roi  \n",
       "0  5.856569e+08  120.888543  \n",
       "1  1.088790e+07  -96.865283  \n",
       "3  2.071167e+08  -20.747743  \n",
       "5 -1.992877e+08 -172.294775  \n",
       "6  9.092051e+07  -69.561898  \n",
       "\n",
       "[5 rows x 30 columns]"
      ]
     },
     "execution_count": 36,
     "metadata": {},
     "output_type": "execute_result"
    }
   ],
   "source": [
    "profits = []\n",
    "roi_vals = []\n",
    "\n",
    "for index, row in movies_table.iterrows():\n",
    "    profit = row['real_domestic_gross'] - row['real_budget']\n",
    "    budget = row['real_budget']\n",
    "    num = profit - budget\n",
    "    den = budget\n",
    "    # convert roi to percentage\n",
    "    roi = (num / den) * 100\n",
    "    \n",
    "    profits.append(profit)\n",
    "    roi_vals.append(roi)\n",
    "    \n",
    "movies_table['profit'] = profits\n",
    "movies_table['roi'] = roi_vals\n",
    "\n",
    "movies_table.head()"
   ]
  },
  {
   "cell_type": "markdown",
   "metadata": {},
   "source": [
    "Now that we have tidied and processed the data, adding new data that will aid our analysis, we can proceed to the next step of the data science pipeline. "
   ]
  },
  {
   "cell_type": "markdown",
   "metadata": {},
   "source": [
    "## III. Exploratory Analysis and Data Visualization"
   ]
  },
  {
   "cell_type": "markdown",
   "metadata": {},
   "source": [
    "### Analyzing imdb score vs. gross\n",
    "let's see if these is a relationship between a film's imdb score and its box office gross"
   ]
  },
  {
   "cell_type": "code",
   "execution_count": null,
   "metadata": {
    "collapsed": false
   },
   "outputs": [],
   "source": [
    "x = 'imdb_score'\n",
    "y = 'real_domestic_gross'\n",
    "\n",
    "# choose a subset to represent the dataset\n",
    "subset_data = movies_table.head(500)[[x, y]]\n",
    "subset_data.sort_values(['imdb_score'], ascending=True, inplace=True)\n",
    "subset_data.dropna(inplace=True)\n",
    "\n",
    "subset_data.plot(x=x, y=y, kind='scatter')"
   ]
  },
  {
   "cell_type": "markdown",
   "metadata": {},
   "source": [
    "It is interesting to see how there is almost an exponential relationship between a film's imdb score and its box office gross. Let's also create violin plots based on this relationship to better visualize the spread and density of the data distribution."
   ]
  },
  {
   "cell_type": "code",
   "execution_count": null,
   "metadata": {
    "collapsed": false
   },
   "outputs": [],
   "source": [
    "ggplot(aes(x=x, y=y), data=subset_data) +\\\n",
    "    geom_violin() +\\\n",
    "    labs(title=\"Imdb score vs. gross profit\",\n",
    "         x = x,\n",
    "         y = y)"
   ]
  },
  {
   "cell_type": "markdown",
   "metadata": {},
   "source": [
    "Mention analysis of violin plots"
   ]
  },
  {
   "cell_type": "markdown",
   "metadata": {},
   "source": [
    "### Analyzing imdb score vs. gross by genre\n",
    "\n",
    "Next, we wanted to analyze if genre played a role in the correlation betwen imdb score and gross. In our original data set, each movie could have multiple genres and so we split each row into multiple based on how many genres the movies were classified as part of. "
   ]
  },
  {
   "cell_type": "code",
   "execution_count": null,
   "metadata": {
    "collapsed": false
   },
   "outputs": [],
   "source": [
    "# Subset data #2\n",
    "subset_data2 = pd.DataFrame(columns=[x, y, 'genre'])\n",
    "\n",
    "i = 0\n",
    "values = []\n",
    "for idx, row in movies_table.iterrows():\n",
    "    genres_val = row['genres']\n",
    "    \n",
    "    if not pd.isnull(genres_val) and not pd.isnull(row['real_domestic_gross']):\n",
    "        for genre in genres_val.split('|'):\n",
    "            values.append([row[x], row[y], genre])    \n",
    "        \n",
    "subset_data2 = pd.DataFrame(values, columns=[x, y, 'genre'])\n",
    "subset_data2 = subset_data2.groupby(['imdb_score', 'genre'], as_index=False).mean()"
   ]
  },
  {
   "cell_type": "markdown",
   "metadata": {},
   "source": [
    "Now let's graph the imdb score vs. gross relationship for each genre in our dataset. "
   ]
  },
  {
   "cell_type": "code",
   "execution_count": null,
   "metadata": {
    "collapsed": false
   },
   "outputs": [],
   "source": [
    "# Plot the data\n",
    "g = sns.lmplot(x=x, y=y, data=subset_data2, col=\"genre\", hue=\"genre\", scatter=True, fit_reg=True, col_wrap=3)\n",
    "sns.plt.show()"
   ]
  },
  {
   "cell_type": "markdown",
   "metadata": {},
   "source": [
    "Mention analysis of above graphs in at least a paragraph."
   ]
  },
  {
   "cell_type": "markdown",
   "metadata": {},
   "source": [
    "### Analyzing film earnings\n",
    "Next, let's turn our analysis onto ROI and which films brought studios the most bang for their buck."
   ]
  },
  {
   "cell_type": "code",
   "execution_count": null,
   "metadata": {
    "collapsed": false
   },
   "outputs": [],
   "source": [
    "movies_by_roi = movies_table.sort_values('roi', ascending=False)\n",
    "\n",
    "for index, row in movies_by_roi.head().iterrows():\n",
    "    print(row[\"movie_title\"], row[\"roi\"])"
   ]
  },
  {
   "cell_type": "markdown",
   "metadata": {},
   "source": [
    "Out of all the movies produced by Hollywood, Paranormal Activity, the 2009 indie horror film, yielded the greatest ROI. With a budget of around \\$15,000, it grossed \\$107,917,283 at the box office during its run in 2010. We found this statistic to be quite amazing. It is also interesting to see how out of the top 5 movies with greatest ROI in our dataset, 3/5 films are horror. "
   ]
  },
  {
   "cell_type": "markdown",
   "metadata": {},
   "source": [
    "Let's group the movies by greatest absolute profit."
   ]
  },
  {
   "cell_type": "code",
   "execution_count": null,
   "metadata": {
    "collapsed": false
   },
   "outputs": [],
   "source": [
    "movies_by_profit = movies_table.sort_values('profit', ascending=False)\n",
    "\n",
    "for index, row in movies_by_profit.head().iterrows():\n",
    "    print(row[\"movie_title\"], row[\"profit\"])"
   ]
  },
  {
   "cell_type": "markdown",
   "metadata": {},
   "source": [
    "Let's group the movies by greatest real domestic gross at the box office."
   ]
  },
  {
   "cell_type": "code",
   "execution_count": null,
   "metadata": {
    "collapsed": false
   },
   "outputs": [],
   "source": [
    "movies_by_gross = movies_table.sort_values('real_domestic_gross', ascending=False)\n",
    "\n",
    "for index, row in movies_by_gross.head().iterrows():\n",
    "    print(row[\"movie_title\"], row[\"real_domestic_gross\"])"
   ]
  },
  {
   "cell_type": "markdown",
   "metadata": {},
   "source": [
    "Let's group the movies by greatest imdb scores."
   ]
  },
  {
   "cell_type": "code",
   "execution_count": null,
   "metadata": {
    "collapsed": false
   },
   "outputs": [],
   "source": [
    "movies_by_score = movies_table.sort_values('imdb_score', ascending=False)\n",
    "\n",
    "for index, row in movies_by_score.head().iterrows():\n",
    "    print(row[\"movie_title\"], row[\"imdb_score\"], row[\"real_domestic_gross\"])"
   ]
  },
  {
   "cell_type": "markdown",
   "metadata": {},
   "source": [
    "Add a summarizing note to this analysis"
   ]
  },
  {
   "cell_type": "markdown",
   "metadata": {},
   "source": [
    "## IV. Analysis, Hypothesis Testing, and ML"
   ]
  },
  {
   "cell_type": "code",
   "execution_count": null,
   "metadata": {
    "collapsed": true
   },
   "outputs": [],
   "source": []
  },
  {
   "cell_type": "markdown",
   "metadata": {},
   "source": [
    "## V. Insight & Policy Decision"
   ]
  },
  {
   "cell_type": "code",
   "execution_count": null,
   "metadata": {
    "collapsed": true
   },
   "outputs": [],
   "source": []
  }
 ],
 "metadata": {
  "kernelspec": {
   "display_name": "Python 3",
   "language": "python",
   "name": "python3"
  },
  "language_info": {
   "codemirror_mode": {
    "name": "ipython",
    "version": 3
   },
   "file_extension": ".py",
   "mimetype": "text/x-python",
   "name": "python",
   "nbconvert_exporter": "python",
   "pygments_lexer": "ipython3",
   "version": "3.6.0"
  }
 },
 "nbformat": 4,
 "nbformat_minor": 2
}
