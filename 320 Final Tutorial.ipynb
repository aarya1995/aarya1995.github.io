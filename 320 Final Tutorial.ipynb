{
 "cells": [
  {
   "cell_type": "markdown",
   "metadata": {},
   "source": [
    "# Finding the Hollywood Formula: IMDB Movie Dataset Analysis\n",
    "\n",
    "<img src=\"dataset-cover.png\"/>\n",
    "\n",
    "### Motivation\n",
    "As a group, we are huge movie fanatics and enjoy great films such as the Godfather, Casablanca, and any Tarantino flick. As data scientists we wanted to dig deeper into the business side of movies and explore the economics behind what makes a successful movie. Basically we wanted to to examine whether there are any trends among films that lead them to become successful at the box office, and whether a film's box office success correlates with its ratings. A useful analysis would help us predict how well a film does at the box office before it screens, without having to rely on critics or our own instinct. Essentially we want to determine if there is a \"Hollywood formula\" to making a successful movie. \n",
    "\n",
    "### Background\n",
    "We found an interesting dataset of more than 5000 data points consisting of 28 attributes describing IMDB movies here: https://www.kaggle.com/deepmatrix/imdb-5000-movie-dataset.\n",
    "\n",
    "You can read more about the data set here: https://blog.nycdatascience.com/student-works/machine-learning/movie-rating-prediction/. \n",
    "\n",
    "We will be focusing our analysis around domestic gross, which is how much the film earned domestically at the box office during its initial run. This figure is in nominal terms, and will need to be transformed into real terms. Also, this figure exlcludes international earnings, as well as revenue from DVD rentals, television runs, etc. We will be focusing our analysis on films produced within the USA only. \n",
    "\n",
    "### Original Problem\n",
    "Kaggle user **chuansun76** was trying to solve the following problem:\n",
    "1. Given that thousands of movies were produced each year, is there a better way for us to tell the greatness of movie without relying on critics or our own instincts?\n",
    "2. Will the number of human faces in movie poster correlate with the movie rating?\n",
    "\n",
    "### Our Problem\n",
    "We decided to tackle the problem by trying to answer the following questions: \n",
    "1. Does the genre, imdb score, and popularity of the cast impact a film's success at the box office?\n",
    "2. Are there any movies with a high gross-to-budget ratio (ROI), and why? \n"
   ]
  },
  {
   "cell_type": "markdown",
   "metadata": {},
   "source": [
    "## I. Data Collection\n",
    "We provided two ways to obtain the data scraped by chuansun76, either downloading the data directly online or simply reading in the downloaded file from our inputs folder."
   ]
  },
  {
   "cell_type": "markdown",
   "metadata": {},
   "source": [
    "First let's import the packages and libraries we'll need."
   ]
  },
  {
   "cell_type": "code",
   "execution_count": 1,
   "metadata": {
    "collapsed": true
   },
   "outputs": [],
   "source": [
    "from bs4 import BeautifulSoup\n",
    "import requests\n",
    "import pandas as pd\n",
    "import numpy as np"
   ]
  },
  {
   "cell_type": "markdown",
   "metadata": {},
   "source": [
    "We'll use the Python packages [BeautifulSoup](https://www.crummy.com/software/BeautifulSoup/) and [Requests](http://docs.python-requests.org/en/master/) to download the dataset. Then we'll read the CSV into a [pandas](http://pandas.pydata.org/) DataFrame for further analysis along with [NumPy](http://www.numpy.org/)."
   ]
  },
  {
   "cell_type": "code",
   "execution_count": 2,
   "metadata": {
    "collapsed": false
   },
   "outputs": [
    {
     "data": {
      "text/html": [
       "<div>\n",
       "<table border=\"1\" class=\"dataframe\">\n",
       "  <thead>\n",
       "    <tr style=\"text-align: right;\">\n",
       "      <th></th>\n",
       "      <th>color</th>\n",
       "      <th>director_name</th>\n",
       "      <th>num_critic_for_reviews</th>\n",
       "      <th>duration</th>\n",
       "      <th>director_facebook_likes</th>\n",
       "      <th>actor_3_facebook_likes</th>\n",
       "      <th>actor_2_name</th>\n",
       "      <th>actor_1_facebook_likes</th>\n",
       "      <th>gross</th>\n",
       "      <th>genres</th>\n",
       "      <th>...</th>\n",
       "      <th>num_user_for_reviews</th>\n",
       "      <th>language</th>\n",
       "      <th>country</th>\n",
       "      <th>content_rating</th>\n",
       "      <th>budget</th>\n",
       "      <th>title_year</th>\n",
       "      <th>actor_2_facebook_likes</th>\n",
       "      <th>imdb_score</th>\n",
       "      <th>aspect_ratio</th>\n",
       "      <th>movie_facebook_likes</th>\n",
       "    </tr>\n",
       "  </thead>\n",
       "  <tbody>\n",
       "    <tr>\n",
       "      <th>0</th>\n",
       "      <td>Color</td>\n",
       "      <td>James Cameron</td>\n",
       "      <td>723.0</td>\n",
       "      <td>178.0</td>\n",
       "      <td>0.0</td>\n",
       "      <td>855.0</td>\n",
       "      <td>Joel David Moore</td>\n",
       "      <td>1000.0</td>\n",
       "      <td>760505847.0</td>\n",
       "      <td>Action|Adventure|Fantasy|Sci-Fi</td>\n",
       "      <td>...</td>\n",
       "      <td>3054.0</td>\n",
       "      <td>English</td>\n",
       "      <td>USA</td>\n",
       "      <td>PG-13</td>\n",
       "      <td>237000000.0</td>\n",
       "      <td>2009.0</td>\n",
       "      <td>936.0</td>\n",
       "      <td>7.9</td>\n",
       "      <td>1.78</td>\n",
       "      <td>33000</td>\n",
       "    </tr>\n",
       "    <tr>\n",
       "      <th>1</th>\n",
       "      <td>Color</td>\n",
       "      <td>Gore Verbinski</td>\n",
       "      <td>302.0</td>\n",
       "      <td>169.0</td>\n",
       "      <td>563.0</td>\n",
       "      <td>1000.0</td>\n",
       "      <td>Orlando Bloom</td>\n",
       "      <td>40000.0</td>\n",
       "      <td>309404152.0</td>\n",
       "      <td>Action|Adventure|Fantasy</td>\n",
       "      <td>...</td>\n",
       "      <td>1238.0</td>\n",
       "      <td>English</td>\n",
       "      <td>USA</td>\n",
       "      <td>PG-13</td>\n",
       "      <td>300000000.0</td>\n",
       "      <td>2007.0</td>\n",
       "      <td>5000.0</td>\n",
       "      <td>7.1</td>\n",
       "      <td>2.35</td>\n",
       "      <td>0</td>\n",
       "    </tr>\n",
       "    <tr>\n",
       "      <th>2</th>\n",
       "      <td>Color</td>\n",
       "      <td>Sam Mendes</td>\n",
       "      <td>602.0</td>\n",
       "      <td>148.0</td>\n",
       "      <td>0.0</td>\n",
       "      <td>161.0</td>\n",
       "      <td>Rory Kinnear</td>\n",
       "      <td>11000.0</td>\n",
       "      <td>200074175.0</td>\n",
       "      <td>Action|Adventure|Thriller</td>\n",
       "      <td>...</td>\n",
       "      <td>994.0</td>\n",
       "      <td>English</td>\n",
       "      <td>UK</td>\n",
       "      <td>PG-13</td>\n",
       "      <td>245000000.0</td>\n",
       "      <td>2015.0</td>\n",
       "      <td>393.0</td>\n",
       "      <td>6.8</td>\n",
       "      <td>2.35</td>\n",
       "      <td>85000</td>\n",
       "    </tr>\n",
       "    <tr>\n",
       "      <th>3</th>\n",
       "      <td>Color</td>\n",
       "      <td>Christopher Nolan</td>\n",
       "      <td>813.0</td>\n",
       "      <td>164.0</td>\n",
       "      <td>22000.0</td>\n",
       "      <td>23000.0</td>\n",
       "      <td>Christian Bale</td>\n",
       "      <td>27000.0</td>\n",
       "      <td>448130642.0</td>\n",
       "      <td>Action|Thriller</td>\n",
       "      <td>...</td>\n",
       "      <td>2701.0</td>\n",
       "      <td>English</td>\n",
       "      <td>USA</td>\n",
       "      <td>PG-13</td>\n",
       "      <td>250000000.0</td>\n",
       "      <td>2012.0</td>\n",
       "      <td>23000.0</td>\n",
       "      <td>8.5</td>\n",
       "      <td>2.35</td>\n",
       "      <td>164000</td>\n",
       "    </tr>\n",
       "    <tr>\n",
       "      <th>4</th>\n",
       "      <td>NaN</td>\n",
       "      <td>Doug Walker</td>\n",
       "      <td>NaN</td>\n",
       "      <td>NaN</td>\n",
       "      <td>131.0</td>\n",
       "      <td>NaN</td>\n",
       "      <td>Rob Walker</td>\n",
       "      <td>131.0</td>\n",
       "      <td>NaN</td>\n",
       "      <td>Documentary</td>\n",
       "      <td>...</td>\n",
       "      <td>NaN</td>\n",
       "      <td>NaN</td>\n",
       "      <td>NaN</td>\n",
       "      <td>NaN</td>\n",
       "      <td>NaN</td>\n",
       "      <td>NaN</td>\n",
       "      <td>12.0</td>\n",
       "      <td>7.1</td>\n",
       "      <td>NaN</td>\n",
       "      <td>0</td>\n",
       "    </tr>\n",
       "  </tbody>\n",
       "</table>\n",
       "<p>5 rows × 28 columns</p>\n",
       "</div>"
      ],
      "text/plain": [
       "   color      director_name  num_critic_for_reviews  duration  \\\n",
       "0  Color      James Cameron                   723.0     178.0   \n",
       "1  Color     Gore Verbinski                   302.0     169.0   \n",
       "2  Color         Sam Mendes                   602.0     148.0   \n",
       "3  Color  Christopher Nolan                   813.0     164.0   \n",
       "4    NaN        Doug Walker                     NaN       NaN   \n",
       "\n",
       "   director_facebook_likes  actor_3_facebook_likes      actor_2_name  \\\n",
       "0                      0.0                   855.0  Joel David Moore   \n",
       "1                    563.0                  1000.0     Orlando Bloom   \n",
       "2                      0.0                   161.0      Rory Kinnear   \n",
       "3                  22000.0                 23000.0    Christian Bale   \n",
       "4                    131.0                     NaN        Rob Walker   \n",
       "\n",
       "   actor_1_facebook_likes        gross                           genres  \\\n",
       "0                  1000.0  760505847.0  Action|Adventure|Fantasy|Sci-Fi   \n",
       "1                 40000.0  309404152.0         Action|Adventure|Fantasy   \n",
       "2                 11000.0  200074175.0        Action|Adventure|Thriller   \n",
       "3                 27000.0  448130642.0                  Action|Thriller   \n",
       "4                   131.0          NaN                      Documentary   \n",
       "\n",
       "          ...          num_user_for_reviews language  country  content_rating  \\\n",
       "0         ...                        3054.0  English      USA           PG-13   \n",
       "1         ...                        1238.0  English      USA           PG-13   \n",
       "2         ...                         994.0  English       UK           PG-13   \n",
       "3         ...                        2701.0  English      USA           PG-13   \n",
       "4         ...                           NaN      NaN      NaN             NaN   \n",
       "\n",
       "        budget  title_year actor_2_facebook_likes imdb_score  aspect_ratio  \\\n",
       "0  237000000.0      2009.0                  936.0        7.9          1.78   \n",
       "1  300000000.0      2007.0                 5000.0        7.1          2.35   \n",
       "2  245000000.0      2015.0                  393.0        6.8          2.35   \n",
       "3  250000000.0      2012.0                23000.0        8.5          2.35   \n",
       "4          NaN         NaN                   12.0        7.1           NaN   \n",
       "\n",
       "  movie_facebook_likes  \n",
       "0                33000  \n",
       "1                    0  \n",
       "2                85000  \n",
       "3               164000  \n",
       "4                    0  \n",
       "\n",
       "[5 rows x 28 columns]"
      ]
     },
     "execution_count": 2,
     "metadata": {},
     "output_type": "execute_result"
    }
   ],
   "source": [
    "DATA_URL = \"https://raw.githubusercontent.com/sundeepblue/movie_rating_prediction/master/movie_metadata.csv\"\n",
    "FILE_PATH = \"input/movie_metadata.csv\"\n",
    "\n",
    "def load_data_online(data_url):\n",
    "    data = None\n",
    "    SUCCESS = 200\n",
    "    \n",
    "    r = requests.get(data_url)\n",
    "    if r.status_code == SUCCESS:\n",
    "        # Decode data and read it into a DataFrame\n",
    "        content = r.content.decode('utf-8')\n",
    "        cr = csv.reader(content.splitlines(), delimiter=',')\n",
    "        my_list = list(cr)\n",
    "        data = pd.DataFrame(my_list[1:], columns=my_list[0])\n",
    "        return data\n",
    "    \n",
    "# movies_table = load_data_online(DATA_URL)\n",
    "movies_table = pd.read_csv(FILE_PATH)\n",
    "movies_table.head()"
   ]
  },
  {
   "cell_type": "markdown",
   "metadata": {},
   "source": [
    "## II. Data Processing\n",
    "For our analysis we will drop any rows with `nil` values for `gross`, `budget`, `title_year`, and `country`, as those data points won't contribute to our analysis. We will also focus on movies produced domestically, so we will drop all rows for movies produced outside the United States."
   ]
  },
  {
   "cell_type": "code",
   "execution_count": 3,
   "metadata": {
    "collapsed": false,
    "scrolled": true
   },
   "outputs": [
    {
     "data": {
      "text/html": [
       "<div>\n",
       "<table border=\"1\" class=\"dataframe\">\n",
       "  <thead>\n",
       "    <tr style=\"text-align: right;\">\n",
       "      <th></th>\n",
       "      <th>color</th>\n",
       "      <th>director_name</th>\n",
       "      <th>num_critic_for_reviews</th>\n",
       "      <th>duration</th>\n",
       "      <th>director_facebook_likes</th>\n",
       "      <th>actor_3_facebook_likes</th>\n",
       "      <th>actor_2_name</th>\n",
       "      <th>actor_1_facebook_likes</th>\n",
       "      <th>gross</th>\n",
       "      <th>genres</th>\n",
       "      <th>...</th>\n",
       "      <th>num_user_for_reviews</th>\n",
       "      <th>language</th>\n",
       "      <th>country</th>\n",
       "      <th>content_rating</th>\n",
       "      <th>budget</th>\n",
       "      <th>title_year</th>\n",
       "      <th>actor_2_facebook_likes</th>\n",
       "      <th>imdb_score</th>\n",
       "      <th>aspect_ratio</th>\n",
       "      <th>movie_facebook_likes</th>\n",
       "    </tr>\n",
       "  </thead>\n",
       "  <tbody>\n",
       "    <tr>\n",
       "      <th>0</th>\n",
       "      <td>Color</td>\n",
       "      <td>James Cameron</td>\n",
       "      <td>723.0</td>\n",
       "      <td>178.0</td>\n",
       "      <td>0.0</td>\n",
       "      <td>855.0</td>\n",
       "      <td>Joel David Moore</td>\n",
       "      <td>1000.0</td>\n",
       "      <td>760505847.0</td>\n",
       "      <td>Action|Adventure|Fantasy|Sci-Fi</td>\n",
       "      <td>...</td>\n",
       "      <td>3054.0</td>\n",
       "      <td>English</td>\n",
       "      <td>USA</td>\n",
       "      <td>PG-13</td>\n",
       "      <td>237000000.0</td>\n",
       "      <td>2009.0</td>\n",
       "      <td>936.0</td>\n",
       "      <td>7.9</td>\n",
       "      <td>1.78</td>\n",
       "      <td>33000</td>\n",
       "    </tr>\n",
       "    <tr>\n",
       "      <th>1</th>\n",
       "      <td>Color</td>\n",
       "      <td>Gore Verbinski</td>\n",
       "      <td>302.0</td>\n",
       "      <td>169.0</td>\n",
       "      <td>563.0</td>\n",
       "      <td>1000.0</td>\n",
       "      <td>Orlando Bloom</td>\n",
       "      <td>40000.0</td>\n",
       "      <td>309404152.0</td>\n",
       "      <td>Action|Adventure|Fantasy</td>\n",
       "      <td>...</td>\n",
       "      <td>1238.0</td>\n",
       "      <td>English</td>\n",
       "      <td>USA</td>\n",
       "      <td>PG-13</td>\n",
       "      <td>300000000.0</td>\n",
       "      <td>2007.0</td>\n",
       "      <td>5000.0</td>\n",
       "      <td>7.1</td>\n",
       "      <td>2.35</td>\n",
       "      <td>0</td>\n",
       "    </tr>\n",
       "    <tr>\n",
       "      <th>3</th>\n",
       "      <td>Color</td>\n",
       "      <td>Christopher Nolan</td>\n",
       "      <td>813.0</td>\n",
       "      <td>164.0</td>\n",
       "      <td>22000.0</td>\n",
       "      <td>23000.0</td>\n",
       "      <td>Christian Bale</td>\n",
       "      <td>27000.0</td>\n",
       "      <td>448130642.0</td>\n",
       "      <td>Action|Thriller</td>\n",
       "      <td>...</td>\n",
       "      <td>2701.0</td>\n",
       "      <td>English</td>\n",
       "      <td>USA</td>\n",
       "      <td>PG-13</td>\n",
       "      <td>250000000.0</td>\n",
       "      <td>2012.0</td>\n",
       "      <td>23000.0</td>\n",
       "      <td>8.5</td>\n",
       "      <td>2.35</td>\n",
       "      <td>164000</td>\n",
       "    </tr>\n",
       "    <tr>\n",
       "      <th>5</th>\n",
       "      <td>Color</td>\n",
       "      <td>Andrew Stanton</td>\n",
       "      <td>462.0</td>\n",
       "      <td>132.0</td>\n",
       "      <td>475.0</td>\n",
       "      <td>530.0</td>\n",
       "      <td>Samantha Morton</td>\n",
       "      <td>640.0</td>\n",
       "      <td>73058679.0</td>\n",
       "      <td>Action|Adventure|Sci-Fi</td>\n",
       "      <td>...</td>\n",
       "      <td>738.0</td>\n",
       "      <td>English</td>\n",
       "      <td>USA</td>\n",
       "      <td>PG-13</td>\n",
       "      <td>263700000.0</td>\n",
       "      <td>2012.0</td>\n",
       "      <td>632.0</td>\n",
       "      <td>6.6</td>\n",
       "      <td>2.35</td>\n",
       "      <td>24000</td>\n",
       "    </tr>\n",
       "    <tr>\n",
       "      <th>6</th>\n",
       "      <td>Color</td>\n",
       "      <td>Sam Raimi</td>\n",
       "      <td>392.0</td>\n",
       "      <td>156.0</td>\n",
       "      <td>0.0</td>\n",
       "      <td>4000.0</td>\n",
       "      <td>James Franco</td>\n",
       "      <td>24000.0</td>\n",
       "      <td>336530303.0</td>\n",
       "      <td>Action|Adventure|Romance</td>\n",
       "      <td>...</td>\n",
       "      <td>1902.0</td>\n",
       "      <td>English</td>\n",
       "      <td>USA</td>\n",
       "      <td>PG-13</td>\n",
       "      <td>258000000.0</td>\n",
       "      <td>2007.0</td>\n",
       "      <td>11000.0</td>\n",
       "      <td>6.2</td>\n",
       "      <td>2.35</td>\n",
       "      <td>0</td>\n",
       "    </tr>\n",
       "  </tbody>\n",
       "</table>\n",
       "<p>5 rows × 28 columns</p>\n",
       "</div>"
      ],
      "text/plain": [
       "   color      director_name  num_critic_for_reviews  duration  \\\n",
       "0  Color      James Cameron                   723.0     178.0   \n",
       "1  Color     Gore Verbinski                   302.0     169.0   \n",
       "3  Color  Christopher Nolan                   813.0     164.0   \n",
       "5  Color     Andrew Stanton                   462.0     132.0   \n",
       "6  Color          Sam Raimi                   392.0     156.0   \n",
       "\n",
       "   director_facebook_likes  actor_3_facebook_likes      actor_2_name  \\\n",
       "0                      0.0                   855.0  Joel David Moore   \n",
       "1                    563.0                  1000.0     Orlando Bloom   \n",
       "3                  22000.0                 23000.0    Christian Bale   \n",
       "5                    475.0                   530.0   Samantha Morton   \n",
       "6                      0.0                  4000.0      James Franco   \n",
       "\n",
       "   actor_1_facebook_likes        gross                           genres  \\\n",
       "0                  1000.0  760505847.0  Action|Adventure|Fantasy|Sci-Fi   \n",
       "1                 40000.0  309404152.0         Action|Adventure|Fantasy   \n",
       "3                 27000.0  448130642.0                  Action|Thriller   \n",
       "5                   640.0   73058679.0          Action|Adventure|Sci-Fi   \n",
       "6                 24000.0  336530303.0         Action|Adventure|Romance   \n",
       "\n",
       "          ...          num_user_for_reviews language  country  content_rating  \\\n",
       "0         ...                        3054.0  English      USA           PG-13   \n",
       "1         ...                        1238.0  English      USA           PG-13   \n",
       "3         ...                        2701.0  English      USA           PG-13   \n",
       "5         ...                         738.0  English      USA           PG-13   \n",
       "6         ...                        1902.0  English      USA           PG-13   \n",
       "\n",
       "        budget  title_year actor_2_facebook_likes imdb_score  aspect_ratio  \\\n",
       "0  237000000.0      2009.0                  936.0        7.9          1.78   \n",
       "1  300000000.0      2007.0                 5000.0        7.1          2.35   \n",
       "3  250000000.0      2012.0                23000.0        8.5          2.35   \n",
       "5  263700000.0      2012.0                  632.0        6.6          2.35   \n",
       "6  258000000.0      2007.0                11000.0        6.2          2.35   \n",
       "\n",
       "  movie_facebook_likes  \n",
       "0                33000  \n",
       "1                    0  \n",
       "3               164000  \n",
       "5                24000  \n",
       "6                    0  \n",
       "\n",
       "[5 rows x 28 columns]"
      ]
     },
     "execution_count": 3,
     "metadata": {},
     "output_type": "execute_result"
    }
   ],
   "source": [
    "# replace na values with 0\n",
    "movies_table[\"gross\"].fillna(0, inplace=True)\n",
    "movies_table[\"budget\"].fillna(0, inplace=True)\n",
    "movies_table[\"title_year\"].fillna(0, inplace=True)\n",
    "movies_table[\"country\"].fillna(\"NaN\", inplace=True)\n",
    "\n",
    "# only consider movies made in the USA. Drop all other rows\n",
    "movies_table.drop(movies_table[-(movies_table[\"country\"].str.contains(\"USA\"))].index, inplace=True)\n",
    "\n",
    "movies_table.head()"
   ]
  },
  {
   "cell_type": "markdown",
   "metadata": {},
   "source": [
    "To be able to compare movies across different years we will need to convert gross and budget values into real dollar amounts, in terms of 2016 purchasing power. To accomplish this we will use the [Consumer Price Index (CPI)](https://www.bls.gov/cpi/) to adjust for inflation. \n",
    "\n",
    "Let's scrape CPI values for every year from 1912-2016 exclusively. Using [The US Inflation Calculator](http://www.usinflationcalculator.com/) as our source, we'll traverse all the rows in the table to build our DataFrame. To be able to compare movies across different years, we will need to convert gross and budget values into real dollar amounts, in terms of 2016 purchasing power."
   ]
  },
  {
   "cell_type": "code",
   "execution_count": 4,
   "metadata": {
    "collapsed": false
   },
   "outputs": [
    {
     "data": {
      "text/html": [
       "<div>\n",
       "<table border=\"1\" class=\"dataframe\">\n",
       "  <thead>\n",
       "    <tr style=\"text-align: right;\">\n",
       "      <th></th>\n",
       "      <th>avg_annual_cpi</th>\n",
       "      <th>year</th>\n",
       "    </tr>\n",
       "  </thead>\n",
       "  <tbody>\n",
       "    <tr>\n",
       "      <th>0</th>\n",
       "      <td>9.9</td>\n",
       "      <td>1913</td>\n",
       "    </tr>\n",
       "    <tr>\n",
       "      <th>1</th>\n",
       "      <td>10.0</td>\n",
       "      <td>1914</td>\n",
       "    </tr>\n",
       "    <tr>\n",
       "      <th>2</th>\n",
       "      <td>10.1</td>\n",
       "      <td>1915</td>\n",
       "    </tr>\n",
       "    <tr>\n",
       "      <th>3</th>\n",
       "      <td>10.9</td>\n",
       "      <td>1916</td>\n",
       "    </tr>\n",
       "    <tr>\n",
       "      <th>4</th>\n",
       "      <td>12.8</td>\n",
       "      <td>1917</td>\n",
       "    </tr>\n",
       "  </tbody>\n",
       "</table>\n",
       "</div>"
      ],
      "text/plain": [
       "   avg_annual_cpi  year\n",
       "0             9.9  1913\n",
       "1            10.0  1914\n",
       "2            10.1  1915\n",
       "3            10.9  1916\n",
       "4            12.8  1917"
      ]
     },
     "execution_count": 4,
     "metadata": {},
     "output_type": "execute_result"
    }
   ],
   "source": [
    "url = \"http://www.usinflationcalculator.com/inflation/consumer-price-index-and-annual-percent-changes-from-1913-to-2008/\"\n",
    "\n",
    "r = requests.get(url)\n",
    "data = r.text\n",
    "soup = BeautifulSoup(data, 'html.parser')\n",
    "\n",
    "table = soup.find('table')\n",
    "rows = table.tbody.findAll('tr');\n",
    "\n",
    "years = []\n",
    "cpis = []\n",
    "\n",
    "for row in rows:\n",
    "    year = row.findAll('td')[0].get_text()\n",
    "    if year.isdigit() and int(year) < 2017:\n",
    "        years.append(int(year))\n",
    "        cpis.append(float(row.findAll('td')[13].get_text()))\n",
    "\n",
    "cpi_table = pd.DataFrame({\n",
    "    \"year\": years,\n",
    "    \"avg_annual_cpi\": cpis\n",
    "})\n",
    "\n",
    "cpi_table.head()"
   ]
  },
  {
   "cell_type": "markdown",
   "metadata": {},
   "source": [
    "Let's define a function to translate the nominal dollars into real dollars in 2016 using the CPI. We'll use this [equation](http://www.nasdaq.com/article/how-to-calculate-the-real-value-of-money-using-the-cpi-formula-cm564346) to calculate the real value:\n",
    "> Past dollars in terms of recent dollars = (Dollar amount × Ending-period CPI) ÷ Beginning-period CPI."
   ]
  },
  {
   "cell_type": "code",
   "execution_count": 5,
   "metadata": {
    "collapsed": true
   },
   "outputs": [],
   "source": [
    "def get_real_value(nominal_amt, old_cpi, new_cpi):\n",
    "    real_value = (nominal_amt * new_cpi) / old_cpi\n",
    "    return real_value"
   ]
  },
  {
   "cell_type": "markdown",
   "metadata": {},
   "source": [
    "Let's drop all rows in `movies_table` with a `budget`, `gross`, or `year` of 0, as those rows won't contribute to our analysis:"
   ]
  },
  {
   "cell_type": "code",
   "execution_count": 6,
   "metadata": {
    "collapsed": true
   },
   "outputs": [],
   "source": [
    "movies_table.drop(movies_table[(movies_table[\"budget\"] == 0) | (movies_table[\"gross\"] == 0) | \n",
    "                                (movies_table[\"title_year\"] == 0)].index, inplace=True)"
   ]
  },
  {
   "cell_type": "markdown",
   "metadata": {},
   "source": [
    "We're interested in real dollars in *2016* so let's make things easier for ourself and set it to a constant."
   ]
  },
  {
   "cell_type": "code",
   "execution_count": 7,
   "metadata": {
    "collapsed": true
   },
   "outputs": [],
   "source": [
    "CPI_2016 = float(cpi_table[cpi_table['year'] == 2016]['avg_annual_cpi'])"
   ]
  },
  {
   "cell_type": "markdown",
   "metadata": {},
   "source": [
    "Now we're ready to transform the `budget` and `gross` for each movie into real 2016 dollar terms:"
   ]
  },
  {
   "cell_type": "code",
   "execution_count": 8,
   "metadata": {
    "collapsed": false
   },
   "outputs": [],
   "source": [
    "real_domestic_gross = []\n",
    "real_budget_values = []\n",
    "\n",
    "# must transform gross and budget values into real 2016 dollar terms\n",
    "for index, row in movies_table.iterrows():\n",
    "    gross = row['gross']\n",
    "    budget = row['budget']\n",
    "    year = row['title_year']\n",
    "    cpi = float(cpi_table[cpi_table['year'] == int(year)]['avg_annual_cpi'])\n",
    "    \n",
    "    real_gross = get_real_value(gross, cpi, CPI_2016)\n",
    "    real_budget = get_real_value(budget, cpi, CPI_2016)\n",
    "    real_domestic_gross.append(real_gross)\n",
    "    real_budget_values.append(real_budget)\n",
    "\n",
    "movies_table[\"real_domestic_gross\"] = real_domestic_gross\n",
    "movies_table[\"real_budget\"] = real_budget_values   "
   ]
  },
  {
   "cell_type": "markdown",
   "metadata": {},
   "source": [
    "We'll also drop the nominal value columns, as those won't contribute to our analysis."
   ]
  },
  {
   "cell_type": "code",
   "execution_count": 9,
   "metadata": {
    "collapsed": false
   },
   "outputs": [
    {
     "data": {
      "text/html": [
       "<div>\n",
       "<table border=\"1\" class=\"dataframe\">\n",
       "  <thead>\n",
       "    <tr style=\"text-align: right;\">\n",
       "      <th></th>\n",
       "      <th>color</th>\n",
       "      <th>director_name</th>\n",
       "      <th>num_critic_for_reviews</th>\n",
       "      <th>duration</th>\n",
       "      <th>director_facebook_likes</th>\n",
       "      <th>actor_3_facebook_likes</th>\n",
       "      <th>actor_2_name</th>\n",
       "      <th>actor_1_facebook_likes</th>\n",
       "      <th>genres</th>\n",
       "      <th>actor_1_name</th>\n",
       "      <th>...</th>\n",
       "      <th>language</th>\n",
       "      <th>country</th>\n",
       "      <th>content_rating</th>\n",
       "      <th>title_year</th>\n",
       "      <th>actor_2_facebook_likes</th>\n",
       "      <th>imdb_score</th>\n",
       "      <th>aspect_ratio</th>\n",
       "      <th>movie_facebook_likes</th>\n",
       "      <th>real_domestic_gross</th>\n",
       "      <th>real_budget</th>\n",
       "    </tr>\n",
       "  </thead>\n",
       "  <tbody>\n",
       "    <tr>\n",
       "      <th>0</th>\n",
       "      <td>Color</td>\n",
       "      <td>James Cameron</td>\n",
       "      <td>723.0</td>\n",
       "      <td>178.0</td>\n",
       "      <td>0.0</td>\n",
       "      <td>855.0</td>\n",
       "      <td>Joel David Moore</td>\n",
       "      <td>1000.0</td>\n",
       "      <td>Action|Adventure|Fantasy|Sci-Fi</td>\n",
       "      <td>CCH Pounder</td>\n",
       "      <td>...</td>\n",
       "      <td>English</td>\n",
       "      <td>USA</td>\n",
       "      <td>PG-13</td>\n",
       "      <td>2009.0</td>\n",
       "      <td>936.0</td>\n",
       "      <td>7.9</td>\n",
       "      <td>1.78</td>\n",
       "      <td>33000</td>\n",
       "      <td>8.507937e+08</td>\n",
       "      <td>2.651368e+08</td>\n",
       "    </tr>\n",
       "    <tr>\n",
       "      <th>1</th>\n",
       "      <td>Color</td>\n",
       "      <td>Gore Verbinski</td>\n",
       "      <td>302.0</td>\n",
       "      <td>169.0</td>\n",
       "      <td>563.0</td>\n",
       "      <td>1000.0</td>\n",
       "      <td>Orlando Bloom</td>\n",
       "      <td>40000.0</td>\n",
       "      <td>Action|Adventure|Fantasy</td>\n",
       "      <td>Johnny Depp</td>\n",
       "      <td>...</td>\n",
       "      <td>English</td>\n",
       "      <td>USA</td>\n",
       "      <td>PG-13</td>\n",
       "      <td>2007.0</td>\n",
       "      <td>5000.0</td>\n",
       "      <td>7.1</td>\n",
       "      <td>2.35</td>\n",
       "      <td>0</td>\n",
       "      <td>3.582208e+08</td>\n",
       "      <td>3.473329e+08</td>\n",
       "    </tr>\n",
       "    <tr>\n",
       "      <th>3</th>\n",
       "      <td>Color</td>\n",
       "      <td>Christopher Nolan</td>\n",
       "      <td>813.0</td>\n",
       "      <td>164.0</td>\n",
       "      <td>22000.0</td>\n",
       "      <td>23000.0</td>\n",
       "      <td>Christian Bale</td>\n",
       "      <td>27000.0</td>\n",
       "      <td>Action|Thriller</td>\n",
       "      <td>Tom Hardy</td>\n",
       "      <td>...</td>\n",
       "      <td>English</td>\n",
       "      <td>USA</td>\n",
       "      <td>PG-13</td>\n",
       "      <td>2012.0</td>\n",
       "      <td>23000.0</td>\n",
       "      <td>8.5</td>\n",
       "      <td>2.35</td>\n",
       "      <td>164000</td>\n",
       "      <td>4.684551e+08</td>\n",
       "      <td>2.613385e+08</td>\n",
       "    </tr>\n",
       "    <tr>\n",
       "      <th>5</th>\n",
       "      <td>Color</td>\n",
       "      <td>Andrew Stanton</td>\n",
       "      <td>462.0</td>\n",
       "      <td>132.0</td>\n",
       "      <td>475.0</td>\n",
       "      <td>530.0</td>\n",
       "      <td>Samantha Morton</td>\n",
       "      <td>640.0</td>\n",
       "      <td>Action|Adventure|Sci-Fi</td>\n",
       "      <td>Daryl Sabara</td>\n",
       "      <td>...</td>\n",
       "      <td>English</td>\n",
       "      <td>USA</td>\n",
       "      <td>PG-13</td>\n",
       "      <td>2012.0</td>\n",
       "      <td>632.0</td>\n",
       "      <td>6.6</td>\n",
       "      <td>2.35</td>\n",
       "      <td>24000</td>\n",
       "      <td>7.637218e+07</td>\n",
       "      <td>2.756598e+08</td>\n",
       "    </tr>\n",
       "    <tr>\n",
       "      <th>6</th>\n",
       "      <td>Color</td>\n",
       "      <td>Sam Raimi</td>\n",
       "      <td>392.0</td>\n",
       "      <td>156.0</td>\n",
       "      <td>0.0</td>\n",
       "      <td>4000.0</td>\n",
       "      <td>James Franco</td>\n",
       "      <td>24000.0</td>\n",
       "      <td>Action|Adventure|Romance</td>\n",
       "      <td>J.K. Simmons</td>\n",
       "      <td>...</td>\n",
       "      <td>English</td>\n",
       "      <td>USA</td>\n",
       "      <td>PG-13</td>\n",
       "      <td>2007.0</td>\n",
       "      <td>11000.0</td>\n",
       "      <td>6.2</td>\n",
       "      <td>2.35</td>\n",
       "      <td>0</td>\n",
       "      <td>3.896268e+08</td>\n",
       "      <td>2.987063e+08</td>\n",
       "    </tr>\n",
       "  </tbody>\n",
       "</table>\n",
       "<p>5 rows × 28 columns</p>\n",
       "</div>"
      ],
      "text/plain": [
       "   color      director_name  num_critic_for_reviews  duration  \\\n",
       "0  Color      James Cameron                   723.0     178.0   \n",
       "1  Color     Gore Verbinski                   302.0     169.0   \n",
       "3  Color  Christopher Nolan                   813.0     164.0   \n",
       "5  Color     Andrew Stanton                   462.0     132.0   \n",
       "6  Color          Sam Raimi                   392.0     156.0   \n",
       "\n",
       "   director_facebook_likes  actor_3_facebook_likes      actor_2_name  \\\n",
       "0                      0.0                   855.0  Joel David Moore   \n",
       "1                    563.0                  1000.0     Orlando Bloom   \n",
       "3                  22000.0                 23000.0    Christian Bale   \n",
       "5                    475.0                   530.0   Samantha Morton   \n",
       "6                      0.0                  4000.0      James Franco   \n",
       "\n",
       "   actor_1_facebook_likes                           genres  actor_1_name  \\\n",
       "0                  1000.0  Action|Adventure|Fantasy|Sci-Fi   CCH Pounder   \n",
       "1                 40000.0         Action|Adventure|Fantasy   Johnny Depp   \n",
       "3                 27000.0                  Action|Thriller     Tom Hardy   \n",
       "5                   640.0          Action|Adventure|Sci-Fi  Daryl Sabara   \n",
       "6                 24000.0         Action|Adventure|Romance  J.K. Simmons   \n",
       "\n",
       "       ...      language  country  content_rating title_year  \\\n",
       "0      ...       English      USA           PG-13     2009.0   \n",
       "1      ...       English      USA           PG-13     2007.0   \n",
       "3      ...       English      USA           PG-13     2012.0   \n",
       "5      ...       English      USA           PG-13     2012.0   \n",
       "6      ...       English      USA           PG-13     2007.0   \n",
       "\n",
       "   actor_2_facebook_likes imdb_score aspect_ratio  movie_facebook_likes  \\\n",
       "0                   936.0        7.9         1.78                 33000   \n",
       "1                  5000.0        7.1         2.35                     0   \n",
       "3                 23000.0        8.5         2.35                164000   \n",
       "5                   632.0        6.6         2.35                 24000   \n",
       "6                 11000.0        6.2         2.35                     0   \n",
       "\n",
       "  real_domestic_gross   real_budget  \n",
       "0        8.507937e+08  2.651368e+08  \n",
       "1        3.582208e+08  3.473329e+08  \n",
       "3        4.684551e+08  2.613385e+08  \n",
       "5        7.637218e+07  2.756598e+08  \n",
       "6        3.896268e+08  2.987063e+08  \n",
       "\n",
       "[5 rows x 28 columns]"
      ]
     },
     "execution_count": 9,
     "metadata": {},
     "output_type": "execute_result"
    }
   ],
   "source": [
    "# drop the gross and budget cols because we won't use the nominal values\n",
    "movies_table.drop(labels='gross', axis=1, inplace=True)\n",
    "movies_table.drop(labels='budget', axis=1, inplace=True)\n",
    "\n",
    "movies_table.head() "
   ]
  },
  {
   "cell_type": "markdown",
   "metadata": {},
   "source": [
    "Let's also calculate the return on investment (ROI) and absolute profit for each movie. The ROI will show which movie studio earned the greatest profit based on their initial budget for the movie, and will be useful in evaluating the sucess of a film in an economic sense. **We will be storing the ROI values as percentages.**"
   ]
  },
  {
   "cell_type": "code",
   "execution_count": 10,
   "metadata": {
    "collapsed": false
   },
   "outputs": [
    {
     "data": {
      "text/html": [
       "<div>\n",
       "<table border=\"1\" class=\"dataframe\">\n",
       "  <thead>\n",
       "    <tr style=\"text-align: right;\">\n",
       "      <th></th>\n",
       "      <th>color</th>\n",
       "      <th>director_name</th>\n",
       "      <th>num_critic_for_reviews</th>\n",
       "      <th>duration</th>\n",
       "      <th>director_facebook_likes</th>\n",
       "      <th>actor_3_facebook_likes</th>\n",
       "      <th>actor_2_name</th>\n",
       "      <th>actor_1_facebook_likes</th>\n",
       "      <th>genres</th>\n",
       "      <th>actor_1_name</th>\n",
       "      <th>...</th>\n",
       "      <th>content_rating</th>\n",
       "      <th>title_year</th>\n",
       "      <th>actor_2_facebook_likes</th>\n",
       "      <th>imdb_score</th>\n",
       "      <th>aspect_ratio</th>\n",
       "      <th>movie_facebook_likes</th>\n",
       "      <th>real_domestic_gross</th>\n",
       "      <th>real_budget</th>\n",
       "      <th>profit</th>\n",
       "      <th>roi</th>\n",
       "    </tr>\n",
       "  </thead>\n",
       "  <tbody>\n",
       "    <tr>\n",
       "      <th>0</th>\n",
       "      <td>Color</td>\n",
       "      <td>James Cameron</td>\n",
       "      <td>723.0</td>\n",
       "      <td>178.0</td>\n",
       "      <td>0.0</td>\n",
       "      <td>855.0</td>\n",
       "      <td>Joel David Moore</td>\n",
       "      <td>1000.0</td>\n",
       "      <td>Action|Adventure|Fantasy|Sci-Fi</td>\n",
       "      <td>CCH Pounder</td>\n",
       "      <td>...</td>\n",
       "      <td>PG-13</td>\n",
       "      <td>2009.0</td>\n",
       "      <td>936.0</td>\n",
       "      <td>7.9</td>\n",
       "      <td>1.78</td>\n",
       "      <td>33000</td>\n",
       "      <td>8.507937e+08</td>\n",
       "      <td>2.651368e+08</td>\n",
       "      <td>5.856569e+08</td>\n",
       "      <td>120.888543</td>\n",
       "    </tr>\n",
       "    <tr>\n",
       "      <th>1</th>\n",
       "      <td>Color</td>\n",
       "      <td>Gore Verbinski</td>\n",
       "      <td>302.0</td>\n",
       "      <td>169.0</td>\n",
       "      <td>563.0</td>\n",
       "      <td>1000.0</td>\n",
       "      <td>Orlando Bloom</td>\n",
       "      <td>40000.0</td>\n",
       "      <td>Action|Adventure|Fantasy</td>\n",
       "      <td>Johnny Depp</td>\n",
       "      <td>...</td>\n",
       "      <td>PG-13</td>\n",
       "      <td>2007.0</td>\n",
       "      <td>5000.0</td>\n",
       "      <td>7.1</td>\n",
       "      <td>2.35</td>\n",
       "      <td>0</td>\n",
       "      <td>3.582208e+08</td>\n",
       "      <td>3.473329e+08</td>\n",
       "      <td>1.088790e+07</td>\n",
       "      <td>-96.865283</td>\n",
       "    </tr>\n",
       "    <tr>\n",
       "      <th>3</th>\n",
       "      <td>Color</td>\n",
       "      <td>Christopher Nolan</td>\n",
       "      <td>813.0</td>\n",
       "      <td>164.0</td>\n",
       "      <td>22000.0</td>\n",
       "      <td>23000.0</td>\n",
       "      <td>Christian Bale</td>\n",
       "      <td>27000.0</td>\n",
       "      <td>Action|Thriller</td>\n",
       "      <td>Tom Hardy</td>\n",
       "      <td>...</td>\n",
       "      <td>PG-13</td>\n",
       "      <td>2012.0</td>\n",
       "      <td>23000.0</td>\n",
       "      <td>8.5</td>\n",
       "      <td>2.35</td>\n",
       "      <td>164000</td>\n",
       "      <td>4.684551e+08</td>\n",
       "      <td>2.613385e+08</td>\n",
       "      <td>2.071167e+08</td>\n",
       "      <td>-20.747743</td>\n",
       "    </tr>\n",
       "    <tr>\n",
       "      <th>5</th>\n",
       "      <td>Color</td>\n",
       "      <td>Andrew Stanton</td>\n",
       "      <td>462.0</td>\n",
       "      <td>132.0</td>\n",
       "      <td>475.0</td>\n",
       "      <td>530.0</td>\n",
       "      <td>Samantha Morton</td>\n",
       "      <td>640.0</td>\n",
       "      <td>Action|Adventure|Sci-Fi</td>\n",
       "      <td>Daryl Sabara</td>\n",
       "      <td>...</td>\n",
       "      <td>PG-13</td>\n",
       "      <td>2012.0</td>\n",
       "      <td>632.0</td>\n",
       "      <td>6.6</td>\n",
       "      <td>2.35</td>\n",
       "      <td>24000</td>\n",
       "      <td>7.637218e+07</td>\n",
       "      <td>2.756598e+08</td>\n",
       "      <td>-1.992877e+08</td>\n",
       "      <td>-172.294775</td>\n",
       "    </tr>\n",
       "    <tr>\n",
       "      <th>6</th>\n",
       "      <td>Color</td>\n",
       "      <td>Sam Raimi</td>\n",
       "      <td>392.0</td>\n",
       "      <td>156.0</td>\n",
       "      <td>0.0</td>\n",
       "      <td>4000.0</td>\n",
       "      <td>James Franco</td>\n",
       "      <td>24000.0</td>\n",
       "      <td>Action|Adventure|Romance</td>\n",
       "      <td>J.K. Simmons</td>\n",
       "      <td>...</td>\n",
       "      <td>PG-13</td>\n",
       "      <td>2007.0</td>\n",
       "      <td>11000.0</td>\n",
       "      <td>6.2</td>\n",
       "      <td>2.35</td>\n",
       "      <td>0</td>\n",
       "      <td>3.896268e+08</td>\n",
       "      <td>2.987063e+08</td>\n",
       "      <td>9.092051e+07</td>\n",
       "      <td>-69.561898</td>\n",
       "    </tr>\n",
       "  </tbody>\n",
       "</table>\n",
       "<p>5 rows × 30 columns</p>\n",
       "</div>"
      ],
      "text/plain": [
       "   color      director_name  num_critic_for_reviews  duration  \\\n",
       "0  Color      James Cameron                   723.0     178.0   \n",
       "1  Color     Gore Verbinski                   302.0     169.0   \n",
       "3  Color  Christopher Nolan                   813.0     164.0   \n",
       "5  Color     Andrew Stanton                   462.0     132.0   \n",
       "6  Color          Sam Raimi                   392.0     156.0   \n",
       "\n",
       "   director_facebook_likes  actor_3_facebook_likes      actor_2_name  \\\n",
       "0                      0.0                   855.0  Joel David Moore   \n",
       "1                    563.0                  1000.0     Orlando Bloom   \n",
       "3                  22000.0                 23000.0    Christian Bale   \n",
       "5                    475.0                   530.0   Samantha Morton   \n",
       "6                      0.0                  4000.0      James Franco   \n",
       "\n",
       "   actor_1_facebook_likes                           genres  actor_1_name  \\\n",
       "0                  1000.0  Action|Adventure|Fantasy|Sci-Fi   CCH Pounder   \n",
       "1                 40000.0         Action|Adventure|Fantasy   Johnny Depp   \n",
       "3                 27000.0                  Action|Thriller     Tom Hardy   \n",
       "5                   640.0          Action|Adventure|Sci-Fi  Daryl Sabara   \n",
       "6                 24000.0         Action|Adventure|Romance  J.K. Simmons   \n",
       "\n",
       "      ...     content_rating  title_year  actor_2_facebook_likes imdb_score  \\\n",
       "0     ...              PG-13      2009.0                   936.0        7.9   \n",
       "1     ...              PG-13      2007.0                  5000.0        7.1   \n",
       "3     ...              PG-13      2012.0                 23000.0        8.5   \n",
       "5     ...              PG-13      2012.0                   632.0        6.6   \n",
       "6     ...              PG-13      2007.0                 11000.0        6.2   \n",
       "\n",
       "   aspect_ratio movie_facebook_likes real_domestic_gross   real_budget  \\\n",
       "0          1.78                33000        8.507937e+08  2.651368e+08   \n",
       "1          2.35                    0        3.582208e+08  3.473329e+08   \n",
       "3          2.35               164000        4.684551e+08  2.613385e+08   \n",
       "5          2.35                24000        7.637218e+07  2.756598e+08   \n",
       "6          2.35                    0        3.896268e+08  2.987063e+08   \n",
       "\n",
       "         profit         roi  \n",
       "0  5.856569e+08  120.888543  \n",
       "1  1.088790e+07  -96.865283  \n",
       "3  2.071167e+08  -20.747743  \n",
       "5 -1.992877e+08 -172.294775  \n",
       "6  9.092051e+07  -69.561898  \n",
       "\n",
       "[5 rows x 30 columns]"
      ]
     },
     "execution_count": 10,
     "metadata": {},
     "output_type": "execute_result"
    }
   ],
   "source": [
    "profits = []\n",
    "roi_vals = []\n",
    "\n",
    "for index, row in movies_table.iterrows():\n",
    "    profit = row['real_domestic_gross'] - row['real_budget']\n",
    "    budget = row['real_budget']\n",
    "    num = profit - budget\n",
    "    den = budget\n",
    "    # convert roi to percentage\n",
    "    roi = (num / den) * 100\n",
    "    \n",
    "    profits.append(profit)\n",
    "    roi_vals.append(roi)\n",
    "    \n",
    "movies_table['profit'] = profits\n",
    "movies_table['roi'] = roi_vals\n",
    "\n",
    "movies_table.head()"
   ]
  },
  {
   "cell_type": "markdown",
   "metadata": {},
   "source": [
    "Now that we have tidied and processed the data, adding new data that will aid our analysis, we can proceed to the next step of the data science pipeline. "
   ]
  },
  {
   "cell_type": "markdown",
   "metadata": {},
   "source": [
    "## III. Exploratory Analysis and Data Visualization"
   ]
  },
  {
   "cell_type": "markdown",
   "metadata": {},
   "source": [
    "We'll use [ggplot](http://ggplot.yhathq.com/), [Seaborn](https://seaborn.pydata.org/), and [matplotlib](https://matplotlib.org/) for making our visualizations."
   ]
  },
  {
   "cell_type": "code",
   "execution_count": 11,
   "metadata": {
    "collapsed": true
   },
   "outputs": [],
   "source": [
    "from ggplot import *\n",
    "import seaborn as sns\n",
    "import matplotlib.pyplot as plt\n",
    "%matplotlib inline"
   ]
  },
  {
   "cell_type": "markdown",
   "metadata": {},
   "source": [
    "### Analyzing IMDB score vs. gross\n",
    "let's see if these is a relationship between a film's IMDB score and its box office gross by creating a simple scatter plot of a sample of the data."
   ]
  },
  {
   "cell_type": "code",
   "execution_count": 12,
   "metadata": {
    "collapsed": false
   },
   "outputs": [
    {
     "data": {
      "text/plain": [
       "<matplotlib.axes._subplots.AxesSubplot at 0x11223f908>"
      ]
     },
     "execution_count": 12,
     "metadata": {},
     "output_type": "execute_result"
    },
    {
     "data": {
      "image/png": "[encoded data removed]",
      "text/plain": [
       "<matplotlib.figure.Figure at 0x11222a940>"
      ]
     },
     "metadata": {},
     "output_type": "display_data"
    }
   ],
   "source": [
    "x = 'imdb_score'\n",
    "y = 'real_domestic_gross'\n",
    "\n",
    "# choose a subset to represent the dataset\n",
    "subset_data = movies_table.sample(500)[[x, y]]\n",
    "subset_data.sort_values(['imdb_score'], ascending=True, inplace=True)\n",
    "subset_data.dropna(inplace=True)\n",
    "\n",
    "subset_data.plot(x=x, y=y, kind='scatter')"
   ]
  },
  {
   "cell_type": "markdown",
   "metadata": {},
   "source": [
    "The sample plot is rather top-heavy, with a majority of the points clustering with an IMDB score above 5 and real domestic gross below 0.2. It is also interesting to see how this sample almost resembles an exponential relationship between a film's IMDB score and its box office gross."
   ]
  },
  {
   "cell_type": "markdown",
   "metadata": {},
   "source": [
    "Let's also create [violin plots](https://en.wikipedia.org/wiki/Violin_plot) — combinations of box plots and density plots. We can use the violin plot try to better to better visualize the spread and density of the data distribution."
   ]
  },
  {
   "cell_type": "code",
   "execution_count": 13,
   "metadata": {
    "collapsed": false
   },
   "outputs": [
    {
     "data": {
      "image/png": "[encoded data removed]",
      "text/plain": [
       "<matplotlib.figure.Figure at 0x111e414a8>"
      ]
     },
     "metadata": {},
     "output_type": "display_data"
    },
    {
     "data": {
      "text/plain": [
       "<ggplot: (-9223372036567387125)>"
      ]
     },
     "execution_count": 13,
     "metadata": {},
     "output_type": "execute_result"
    }
   ],
   "source": [
    "ggplot(aes(x=x, y=y), data=subset_data) +\\\n",
    "    geom_violin() +\\\n",
    "    labs(title=\"Imdb score vs. gross profit\",\n",
    "         x = x,\n",
    "         y = y)"
   ]
  },
  {
   "cell_type": "markdown",
   "metadata": {},
   "source": [
    "We notice that films with larger IMDB scores have a wider range for real domestic gross. This makes some intuitive sense: better scoring films can do dramatically differently in terms of revenue. The long thin lines suggest that only some do really, but most sit below 0.5 as that's where the violin is more dense. We also see that low scoring films — especially the worst — have a smaller range and don't make much money at all."
   ]
  },
  {
   "cell_type": "markdown",
   "metadata": {},
   "source": [
    "### Analyzing IMDB score vs. gross by genre\n",
    "\n",
    "Next, we wanted to analyze if genre played a role in the correlation betwen IMDB score and gross. In our original data set, each movie could have multiple genres and so we split each row into multiple based on how many genres the movies were classified as part of. "
   ]
  },
  {
   "cell_type": "code",
   "execution_count": 14,
   "metadata": {
    "collapsed": false
   },
   "outputs": [],
   "source": [
    "# Subset data #2\n",
    "subset_data2 = pd.DataFrame(columns=[x, y, 'genre'])\n",
    "\n",
    "i = 0\n",
    "values = []\n",
    "for idx, row in movies_table.iterrows():\n",
    "    genres_val = row['genres']\n",
    "    \n",
    "    if not pd.isnull(genres_val) and not pd.isnull(row['real_domestic_gross']):\n",
    "        for genre in genres_val.split('|'):\n",
    "            values.append([row[x], row[y], genre])    \n",
    "        \n",
    "subset_data2 = pd.DataFrame(values, columns=[x, y, 'genre'])\n",
    "subset_data2 = subset_data2.groupby(['imdb_score', 'genre'], as_index=False).mean()"
   ]
  },
  {
   "cell_type": "markdown",
   "metadata": {},
   "source": [
    "Now let's graph the imdb score vs. gross relationship for each genre in our dataset. "
   ]
  },
  {
   "cell_type": "code",
   "execution_count": 15,
   "metadata": {
    "collapsed": false
   },
   "outputs": [
    {
     "data": {
      "image/png": "[encoded data removed]",
      "text/plain": [
       "<matplotlib.figure.Figure at 0x111cebb38>"
      ]
     },
     "metadata": {},
     "output_type": "display_data"
    }
   ],
   "source": [
    "# Plot the data\n",
    "g = sns.lmplot(x=x, y=y, data=subset_data2, col=\"genre\", hue=\"genre\", scatter=True, fit_reg=True, col_wrap=3)\n",
    "sns.plt.show()"
   ]
  },
  {
   "cell_type": "markdown",
   "metadata": {},
   "source": [
    "For a lot of the genres, there's a small positive linear relationship between the two. \"War\" and \"History\" both have an outlier (perhaps same film?) that skews their line of best fit. It also should be noted that that there's not enough data for the \"Short\" and \"Film-Noir\" genres to make a proper analysis. All this suggests that genre is not a good indicator of real domestic gross."
   ]
  },
  {
   "cell_type": "markdown",
   "metadata": {},
   "source": [
    "### Analyzing film earnings\n",
    "Next, let's make use of the ROI we calculated earlier and try to analyze which films brought studios the most bang for their buck."
   ]
  },
  {
   "cell_type": "code",
   "execution_count": 16,
   "metadata": {
    "collapsed": false
   },
   "outputs": [
    {
     "name": "stdout",
     "output_type": "stream",
     "text": [
      "Paranormal Activity  719248.5533333333\n",
      "Tarnation  271366.05504587153\n",
      "The Blair Witch Project  234016.85666666666\n",
      "The Brothers McMullen  40786.40000000001\n",
      "The Texas Chain Saw Massacre  36742.72853517215\n"
     ]
    }
   ],
   "source": [
    "movies_by_roi = movies_table.sort_values('roi', ascending=False)\n",
    "\n",
    "for index, row in movies_by_roi.head().iterrows():\n",
    "    print(row[\"movie_title\"], row[\"roi\"])"
   ]
  },
  {
   "cell_type": "markdown",
   "metadata": {},
   "source": [
    "Out of all the movies produced by Hollywood, [Paranormal Activity](http://www.imdb.com/title/tt1179904/) — the 2009 indie horror film — yielded the greatest ROI. With a budget of around \\$15,000, it grossed \\$107,917,283 at the box office during its run in 2010. We found this statistic to be quite amazing. It is also interesting to see how out of the top 5 movies with greatest ROI in our dataset, 3/5 films are horror. "
   ]
  },
  {
   "cell_type": "markdown",
   "metadata": {},
   "source": [
    "Now, let's group the movies by greatest absolute profit."
   ]
  },
  {
   "cell_type": "code",
   "execution_count": 17,
   "metadata": {
    "collapsed": false
   },
   "outputs": [
    {
     "name": "stdout",
     "output_type": "stream",
     "text": [
      "Gone with the Wind  3361449602.0105033\n",
      "Snow White and the Seven Dwarfs  3048847005.4440975\n",
      "Star Wars: Episode IV - A New Hope  1781975398.5091584\n",
      "Pinocchio  1400612278.5714285\n",
      "Fantasia  1270665631.4285712\n"
     ]
    }
   ],
   "source": [
    "movies_by_profit = movies_table.sort_values('profit', ascending=False)\n",
    "\n",
    "for index, row in movies_by_profit.head().iterrows():\n",
    "    print(row[\"movie_title\"], row[\"profit\"])"
   ]
  },
  {
   "cell_type": "markdown",
   "metadata": {},
   "source": [
    "What were their respective IMDB scores?"
   ]
  },
  {
   "cell_type": "code",
   "execution_count": 18,
   "metadata": {
    "collapsed": false
   },
   "outputs": [
    {
     "data": {
      "text/html": [
       "<div>\n",
       "<table border=\"1\" class=\"dataframe\">\n",
       "  <thead>\n",
       "    <tr style=\"text-align: right;\">\n",
       "      <th></th>\n",
       "      <th>movie_title</th>\n",
       "      <th>profit</th>\n",
       "      <th>imdb_score</th>\n",
       "    </tr>\n",
       "  </thead>\n",
       "  <tbody>\n",
       "    <tr>\n",
       "      <th>3970</th>\n",
       "      <td>Gone with the Wind</td>\n",
       "      <td>3.361450e+09</td>\n",
       "      <td>8.2</td>\n",
       "    </tr>\n",
       "    <tr>\n",
       "      <th>4449</th>\n",
       "      <td>Snow White and the Seven Dwarfs</td>\n",
       "      <td>3.048847e+09</td>\n",
       "      <td>7.7</td>\n",
       "    </tr>\n",
       "    <tr>\n",
       "      <th>3024</th>\n",
       "      <td>Star Wars: Episode IV - A New Hope</td>\n",
       "      <td>1.781975e+09</td>\n",
       "      <td>8.7</td>\n",
       "    </tr>\n",
       "    <tr>\n",
       "      <th>1143</th>\n",
       "      <td>Pinocchio</td>\n",
       "      <td>1.400612e+09</td>\n",
       "      <td>7.5</td>\n",
       "    </tr>\n",
       "    <tr>\n",
       "      <th>4225</th>\n",
       "      <td>Fantasia</td>\n",
       "      <td>1.270666e+09</td>\n",
       "      <td>7.8</td>\n",
       "    </tr>\n",
       "  </tbody>\n",
       "</table>\n",
       "</div>"
      ],
      "text/plain": [
       "                              movie_title        profit  imdb_score\n",
       "3970                  Gone with the Wind   3.361450e+09         8.2\n",
       "4449     Snow White and the Seven Dwarfs   3.048847e+09         7.7\n",
       "3024  Star Wars: Episode IV - A New Hope   1.781975e+09         8.7\n",
       "1143                           Pinocchio   1.400612e+09         7.5\n",
       "4225                            Fantasia   1.270666e+09         7.8"
      ]
     },
     "execution_count": 18,
     "metadata": {},
     "output_type": "execute_result"
    }
   ],
   "source": [
    "movies_by_profit[[\"movie_title\",\"profit\",\"imdb_score\"]].head()"
   ]
  },
  {
   "cell_type": "markdown",
   "metadata": {},
   "source": [
    "Next, let's group the movies by greatest real domestic gross at the box office."
   ]
  },
  {
   "cell_type": "code",
   "execution_count": 19,
   "metadata": {
    "collapsed": false
   },
   "outputs": [
    {
     "name": "stdout",
     "output_type": "stream",
     "text": [
      "Gone with the Wind  3430119230.7155395\n",
      "Snow White and the Seven Dwarfs  3082181310.999653\n",
      "Star Wars: Episode IV - A New Hope  1825541025.5718646\n",
      "Pinocchio  1445185007.142857\n",
      "Fantasia  1309752485.7142856\n"
     ]
    }
   ],
   "source": [
    "movies_by_gross = movies_table.sort_values('real_domestic_gross', ascending=False)\n",
    "\n",
    "for index, row in movies_by_gross.head().iterrows():\n",
    "    print(row[\"movie_title\"], row[\"real_domestic_gross\"])"
   ]
  },
  {
   "cell_type": "markdown",
   "metadata": {},
   "source": [
    "Let's group the movies by greatest imdb scores."
   ]
  },
  {
   "cell_type": "code",
   "execution_count": 20,
   "metadata": {
    "collapsed": false
   },
   "outputs": [
    {
     "name": "stdout",
     "output_type": "stream",
     "text": [
      "The Shawshank Redemption  9.3 45898454.45535088\n",
      "The Godfather  9.2 774119909.896268\n",
      "The Dark Knight  9.0 594509077.2187428\n",
      "The Godfather: Part II  9.0 278953369.168357\n",
      "Pulp Fiction  8.9 174790523.0094467\n"
     ]
    }
   ],
   "source": [
    "movies_by_score = movies_table.sort_values('imdb_score', ascending=False)\n",
    "\n",
    "for index, row in movies_by_score.head().iterrows():\n",
    "    print(row[\"movie_title\"], row[\"imdb_score\"], row[\"real_domestic_gross\"])"
   ]
  },
  {
   "cell_type": "markdown",
   "metadata": {},
   "source": [
    "It is interesting to see how critically acclaimed movies don't necessarily correlate with the highest earning movies. Also amazing to see how movies made in the 1930s and 1940s are some of the highest domestic grossing movies of all time. "
   ]
  },
  {
   "cell_type": "markdown",
   "metadata": {},
   "source": [
    "## IV. Analysis and ML"
   ]
  },
  {
   "cell_type": "markdown",
   "metadata": {},
   "source": [
    "### Linear regression on real domestic gross"
   ]
  },
  {
   "cell_type": "markdown",
   "metadata": {},
   "source": [
    "These are the attributes we have to work with:"
   ]
  },
  {
   "cell_type": "code",
   "execution_count": 21,
   "metadata": {
    "collapsed": false
   },
   "outputs": [
    {
     "data": {
      "text/plain": [
       "Index(['color', 'director_name', 'num_critic_for_reviews', 'duration',\n",
       "       'director_facebook_likes', 'actor_3_facebook_likes', 'actor_2_name',\n",
       "       'actor_1_facebook_likes', 'genres', 'actor_1_name', 'movie_title',\n",
       "       'num_voted_users', 'cast_total_facebook_likes', 'actor_3_name',\n",
       "       'facenumber_in_poster', 'plot_keywords', 'movie_imdb_link',\n",
       "       'num_user_for_reviews', 'language', 'country', 'content_rating',\n",
       "       'title_year', 'actor_2_facebook_likes', 'imdb_score', 'aspect_ratio',\n",
       "       'movie_facebook_likes', 'real_domestic_gross', 'real_budget', 'profit',\n",
       "       'roi'],\n",
       "      dtype='object')"
      ]
     },
     "execution_count": 21,
     "metadata": {},
     "output_type": "execute_result"
    }
   ],
   "source": [
    "movies_table.columns"
   ]
  },
  {
   "cell_type": "markdown",
   "metadata": {},
   "source": [
    "We'll use [scikit-learn](http://scikit-learn.org) for machine learning."
   ]
  },
  {
   "cell_type": "code",
   "execution_count": 22,
   "metadata": {
    "collapsed": false
   },
   "outputs": [],
   "source": [
    "import statsmodels.api as sm\n",
    "from sklearn.model_selection import train_test_split\n",
    "from sklearn import tree\n",
    "from sklearn.metrics import r2_score"
   ]
  },
  {
   "cell_type": "markdown",
   "metadata": {},
   "source": [
    "Let's do linear regression with ordinary least squares."
   ]
  },
  {
   "cell_type": "code",
   "execution_count": 23,
   "metadata": {
    "collapsed": false
   },
   "outputs": [
    {
     "data": {
      "text/html": [
       "<table class=\"simpletable\">\n",
       "<caption>OLS Regression Results</caption>\n",
       "<tr>\n",
       "  <th>Dep. Variable:</th>            <td>y</td>        <th>  R-squared:         </th> <td>   0.210</td> \n",
       "</tr>\n",
       "<tr>\n",
       "  <th>Model:</th>                   <td>OLS</td>       <th>  Adj. R-squared:    </th> <td>   0.207</td> \n",
       "</tr>\n",
       "<tr>\n",
       "  <th>Method:</th>             <td>Least Squares</td>  <th>  F-statistic:       </th> <td>   87.69</td> \n",
       "</tr>\n",
       "<tr>\n",
       "  <th>Date:</th>             <td>Fri, 19 May 2017</td> <th>  Prob (F-statistic):</th> <td>4.54e-145</td>\n",
       "</tr>\n",
       "<tr>\n",
       "  <th>Time:</th>                 <td>10:13:22</td>     <th>  Log-Likelihood:    </th> <td> -59975.</td> \n",
       "</tr>\n",
       "<tr>\n",
       "  <th>No. Observations:</th>      <td>  2987</td>      <th>  AIC:               </th> <td>1.200e+05</td>\n",
       "</tr>\n",
       "<tr>\n",
       "  <th>Df Residuals:</th>          <td>  2977</td>      <th>  BIC:               </th> <td>1.200e+05</td>\n",
       "</tr>\n",
       "<tr>\n",
       "  <th>Df Model:</th>              <td>     9</td>      <th>                     </th>     <td> </td>    \n",
       "</tr>\n",
       "<tr>\n",
       "  <th>Covariance Type:</th>      <td>nonrobust</td>    <th>                     </th>     <td> </td>    \n",
       "</tr>\n",
       "</table>\n",
       "<table class=\"simpletable\">\n",
       "<tr>\n",
       "              <td></td>                 <th>coef</th>     <th>std err</th>      <th>t</th>      <th>P>|t|</th> <th>[95.0% Conf. Int.]</th> \n",
       "</tr>\n",
       "<tr>\n",
       "  <th>const</th>                     <td>-1.803e+08</td> <td> 1.51e+07</td> <td>  -11.901</td> <td> 0.000</td> <td> -2.1e+08 -1.51e+08</td>\n",
       "</tr>\n",
       "<tr>\n",
       "  <th>imdb_score</th>                <td> 3.272e+07</td> <td> 2.43e+06</td> <td>   13.492</td> <td> 0.000</td> <td>  2.8e+07  3.75e+07</td>\n",
       "</tr>\n",
       "<tr>\n",
       "  <th>real_budget</th>               <td>    0.9645</td> <td>    0.051</td> <td>   18.867</td> <td> 0.000</td> <td>    0.864     1.065</td>\n",
       "</tr>\n",
       "<tr>\n",
       "  <th>num_critic_for_reviews</th>    <td>-1.381e+04</td> <td> 2.89e+04</td> <td>   -0.478</td> <td> 0.633</td> <td>-7.05e+04  4.28e+04</td>\n",
       "</tr>\n",
       "<tr>\n",
       "  <th>director_facebook_likes</th>   <td>  589.3956</td> <td>  718.648</td> <td>    0.820</td> <td> 0.412</td> <td> -819.702  1998.494</td>\n",
       "</tr>\n",
       "<tr>\n",
       "  <th>actor_1_facebook_likes</th>    <td>-9357.4739</td> <td> 2016.709</td> <td>   -4.640</td> <td> 0.000</td> <td>-1.33e+04 -5403.190</td>\n",
       "</tr>\n",
       "<tr>\n",
       "  <th>actor_2_facebook_likes</th>    <td>-9581.0271</td> <td> 2131.094</td> <td>   -4.496</td> <td> 0.000</td> <td>-1.38e+04 -5402.461</td>\n",
       "</tr>\n",
       "<tr>\n",
       "  <th>actor_3_facebook_likes</th>    <td> -1.01e+04</td> <td> 3312.501</td> <td>   -3.049</td> <td> 0.002</td> <td>-1.66e+04 -3604.240</td>\n",
       "</tr>\n",
       "<tr>\n",
       "  <th>movie_facebook_likes</th>      <td>  124.1345</td> <td>  154.513</td> <td>    0.803</td> <td> 0.422</td> <td> -178.829   427.098</td>\n",
       "</tr>\n",
       "<tr>\n",
       "  <th>cast_total_facebook_likes</th> <td> 9090.3678</td> <td> 2012.483</td> <td>    4.517</td> <td> 0.000</td> <td> 5144.370   1.3e+04</td>\n",
       "</tr>\n",
       "</table>\n",
       "<table class=\"simpletable\">\n",
       "<tr>\n",
       "  <th>Omnibus:</th>       <td>5361.692</td> <th>  Durbin-Watson:     </th>  <td>   1.739</td>  \n",
       "</tr>\n",
       "<tr>\n",
       "  <th>Prob(Omnibus):</th>  <td> 0.000</td>  <th>  Jarque-Bera (JB):  </th> <td>9071676.065</td>\n",
       "</tr>\n",
       "<tr>\n",
       "  <th>Skew:</th>           <td>12.645</td>  <th>  Prob(JB):          </th>  <td>    0.00</td>  \n",
       "</tr>\n",
       "<tr>\n",
       "  <th>Kurtosis:</th>       <td>271.793</td> <th>  Cond. No.          </th>  <td>4.76e+08</td>  \n",
       "</tr>\n",
       "</table>"
      ],
      "text/plain": [
       "<class 'statsmodels.iolib.summary.Summary'>\n",
       "\"\"\"\n",
       "                            OLS Regression Results                            \n",
       "==============================================================================\n",
       "Dep. Variable:                      y   R-squared:                       0.210\n",
       "Model:                            OLS   Adj. R-squared:                  0.207\n",
       "Method:                 Least Squares   F-statistic:                     87.69\n",
       "Date:                Fri, 19 May 2017   Prob (F-statistic):          4.54e-145\n",
       "Time:                        10:13:22   Log-Likelihood:                -59975.\n",
       "No. Observations:                2987   AIC:                         1.200e+05\n",
       "Df Residuals:                    2977   BIC:                         1.200e+05\n",
       "Df Model:                           9                                         \n",
       "Covariance Type:            nonrobust                                         \n",
       "=============================================================================================\n",
       "                                coef    std err          t      P>|t|      [95.0% Conf. Int.]\n",
       "---------------------------------------------------------------------------------------------\n",
       "const                     -1.803e+08   1.51e+07    -11.901      0.000      -2.1e+08 -1.51e+08\n",
       "imdb_score                 3.272e+07   2.43e+06     13.492      0.000       2.8e+07  3.75e+07\n",
       "real_budget                   0.9645      0.051     18.867      0.000         0.864     1.065\n",
       "num_critic_for_reviews    -1.381e+04   2.89e+04     -0.478      0.633     -7.05e+04  4.28e+04\n",
       "director_facebook_likes     589.3956    718.648      0.820      0.412      -819.702  1998.494\n",
       "actor_1_facebook_likes    -9357.4739   2016.709     -4.640      0.000     -1.33e+04 -5403.190\n",
       "actor_2_facebook_likes    -9581.0271   2131.094     -4.496      0.000     -1.38e+04 -5402.461\n",
       "actor_3_facebook_likes     -1.01e+04   3312.501     -3.049      0.002     -1.66e+04 -3604.240\n",
       "movie_facebook_likes        124.1345    154.513      0.803      0.422      -178.829   427.098\n",
       "cast_total_facebook_likes  9090.3678   2012.483      4.517      0.000      5144.370   1.3e+04\n",
       "==============================================================================\n",
       "Omnibus:                     5361.692   Durbin-Watson:                   1.739\n",
       "Prob(Omnibus):                  0.000   Jarque-Bera (JB):          9071676.065\n",
       "Skew:                          12.645   Prob(JB):                         0.00\n",
       "Kurtosis:                     271.793   Cond. No.                     4.76e+08\n",
       "==============================================================================\n",
       "\n",
       "Warnings:\n",
       "[1] Standard Errors assume that the covariance matrix of the errors is correctly specified.\n",
       "[2] The condition number is large, 4.76e+08. This might indicate that there are\n",
       "strong multicollinearity or other numerical problems.\n",
       "\"\"\""
      ]
     },
     "execution_count": 23,
     "metadata": {},
     "output_type": "execute_result"
    }
   ],
   "source": [
    "new_data = movies_table.dropna()\n",
    "\n",
    "x_columns = ['imdb_score', 'real_budget', 'num_critic_for_reviews', 'director_facebook_likes',\n",
    "             'actor_1_facebook_likes', 'actor_2_facebook_likes', 'actor_3_facebook_likes',\n",
    "             'movie_facebook_likes', 'cast_total_facebook_likes']\n",
    "y_column = 'real_domestic_gross'\n",
    "\n",
    "\n",
    "X = [list(row.values) for _, row in new_data[x_columns].iterrows()]\n",
    "X_OLS = sm.add_constant(X)\n",
    "y = new_data[y_column].values\n",
    "\n",
    "\n",
    "model = sm.OLS(y, X_OLS)\n",
    "model.data.xnames = ['const'] + x_columns\n",
    "results = model.fit()\n",
    "results.summary()"
   ]
  },
  {
   "cell_type": "markdown",
   "metadata": {},
   "source": [
    "**Which variables are significant? Which aren't?**\n",
    "\n",
    "By looking at the p-values and using a significance level of 5%, we can see that `imdb_score`, `real_budget`, `actor_facebook_likes`, and `cast_total_facebook_likes` are all significant variables. On the other hand, `num_critic_for_reviews`, `director_facebook_likes`, and `movie_facebook_likes` aren't significant because their p-values are all greater than 0.05.\n",
    "\n",
    "**Interpretations for significant variables**\n",
    "\n",
    "An increase of imdb score of 1 *increases* the real domestic gross on average by \\$3000000, holding all other predictors constant.\n",
    "\n",
    "An increase of budget by \\$1 *increases* the real domestic gross on average by \\$0, holding all other predictors constant.\n",
    "\n",
    "An increase of the actor 1's facebook likes by 1 *decreases* the real domestic gross by \\$9357.47, holding all other predictors constant.\n",
    "\n",
    "An increase of the actor 2's facebook likes by 1 *decreases* the real domestic gross by \\$9571.03, holding all other predictors constant.\n",
    "\n",
    "An increase of the actor 3's facebook likes by 1 *decreases* the gross profit by \\$10100.00, holding all other predictors constant.\n",
    "\n",
    "An increase of the cast total facebook likes by 1 *increases* the gross profit by \\$9090.37, holding all other predictors constant.\n",
    "\n",
    "Most of the results make sense: A higher score, budget, and cast total facebook likes led to a higher real domestic gross. What was most surprising about these results was the fact that if the main actors had an increase of facebook likes, the gross profit actually went down. This could be due to some correlation to the cast total facebook likes. "
   ]
  },
  {
   "cell_type": "markdown",
   "metadata": {},
   "source": [
    "### Linear regression on ROI"
   ]
  },
  {
   "cell_type": "markdown",
   "metadata": {},
   "source": [
    "Let's now try linear regression the ROI data we collected."
   ]
  },
  {
   "cell_type": "code",
   "execution_count": 24,
   "metadata": {
    "collapsed": false
   },
   "outputs": [
    {
     "data": {
      "text/html": [
       "<table class=\"simpletable\">\n",
       "<caption>OLS Regression Results</caption>\n",
       "<tr>\n",
       "  <th>Dep. Variable:</th>            <td>y</td>        <th>  R-squared:         </th> <td>   0.008</td> \n",
       "</tr>\n",
       "<tr>\n",
       "  <th>Model:</th>                   <td>OLS</td>       <th>  Adj. R-squared:    </th> <td>   0.005</td> \n",
       "</tr>\n",
       "<tr>\n",
       "  <th>Method:</th>             <td>Least Squares</td>  <th>  F-statistic:       </th> <td>   2.555</td> \n",
       "</tr>\n",
       "<tr>\n",
       "  <th>Date:</th>             <td>Fri, 19 May 2017</td> <th>  Prob (F-statistic):</th>  <td>0.00636</td> \n",
       "</tr>\n",
       "<tr>\n",
       "  <th>Time:</th>                 <td>10:13:22</td>     <th>  Log-Likelihood:    </th> <td> -32906.</td> \n",
       "</tr>\n",
       "<tr>\n",
       "  <th>No. Observations:</th>      <td>  2987</td>      <th>  AIC:               </th> <td>6.583e+04</td>\n",
       "</tr>\n",
       "<tr>\n",
       "  <th>Df Residuals:</th>          <td>  2977</td>      <th>  BIC:               </th> <td>6.589e+04</td>\n",
       "</tr>\n",
       "<tr>\n",
       "  <th>Df Model:</th>              <td>     9</td>      <th>                     </th>     <td> </td>    \n",
       "</tr>\n",
       "<tr>\n",
       "  <th>Covariance Type:</th>      <td>nonrobust</td>    <th>                     </th>     <td> </td>    \n",
       "</tr>\n",
       "</table>\n",
       "<table class=\"simpletable\">\n",
       "<tr>\n",
       "              <td></td>                 <th>coef</th>     <th>std err</th>      <th>t</th>      <th>P>|t|</th> <th>[95.0% Conf. Int.]</th> \n",
       "</tr>\n",
       "<tr>\n",
       "  <th>const</th>                     <td> -131.6642</td> <td> 1756.858</td> <td>   -0.075</td> <td> 0.940</td> <td>-3576.443  3313.114</td>\n",
       "</tr>\n",
       "<tr>\n",
       "  <th>imdb_score</th>                <td>   20.3356</td> <td>  281.325</td> <td>    0.072</td> <td> 0.942</td> <td> -531.275   571.946</td>\n",
       "</tr>\n",
       "<tr>\n",
       "  <th>real_budget</th>               <td>-1.814e-05</td> <td> 5.93e-06</td> <td>   -3.058</td> <td> 0.002</td> <td>-2.98e-05 -6.51e-06</td>\n",
       "</tr>\n",
       "<tr>\n",
       "  <th>num_critic_for_reviews</th>    <td>   13.3255</td> <td>    3.352</td> <td>    3.976</td> <td> 0.000</td> <td>    6.754    19.897</td>\n",
       "</tr>\n",
       "<tr>\n",
       "  <th>director_facebook_likes</th>   <td>   -0.0420</td> <td>    0.083</td> <td>   -0.504</td> <td> 0.614</td> <td>   -0.205     0.121</td>\n",
       "</tr>\n",
       "<tr>\n",
       "  <th>actor_1_facebook_likes</th>    <td>    0.1299</td> <td>    0.234</td> <td>    0.555</td> <td> 0.579</td> <td>   -0.329     0.589</td>\n",
       "</tr>\n",
       "<tr>\n",
       "  <th>actor_2_facebook_likes</th>    <td>    0.1147</td> <td>    0.247</td> <td>    0.464</td> <td> 0.643</td> <td>   -0.370     0.599</td>\n",
       "</tr>\n",
       "<tr>\n",
       "  <th>actor_3_facebook_likes</th>    <td>    0.2002</td> <td>    0.384</td> <td>    0.521</td> <td> 0.602</td> <td>   -0.553     0.954</td>\n",
       "</tr>\n",
       "<tr>\n",
       "  <th>movie_facebook_likes</th>      <td>   -0.0418</td> <td>    0.018</td> <td>   -2.330</td> <td> 0.020</td> <td>   -0.077    -0.007</td>\n",
       "</tr>\n",
       "<tr>\n",
       "  <th>cast_total_facebook_likes</th> <td>   -0.1436</td> <td>    0.233</td> <td>   -0.615</td> <td> 0.538</td> <td>   -0.601     0.314</td>\n",
       "</tr>\n",
       "</table>\n",
       "<table class=\"simpletable\">\n",
       "<tr>\n",
       "  <th>Omnibus:</th>       <td>8866.613</td> <th>  Durbin-Watson:     </th>   <td>   2.005</td>   \n",
       "</tr>\n",
       "<tr>\n",
       "  <th>Prob(Omnibus):</th>  <td> 0.000</td>  <th>  Jarque-Bera (JB):  </th> <td>453170322.937</td>\n",
       "</tr>\n",
       "<tr>\n",
       "  <th>Skew:</th>           <td>41.534</td>  <th>  Prob(JB):          </th>   <td>    0.00</td>   \n",
       "</tr>\n",
       "<tr>\n",
       "  <th>Kurtosis:</th>      <td>1909.368</td> <th>  Cond. No.          </th>   <td>4.76e+08</td>   \n",
       "</tr>\n",
       "</table>"
      ],
      "text/plain": [
       "<class 'statsmodels.iolib.summary.Summary'>\n",
       "\"\"\"\n",
       "                            OLS Regression Results                            \n",
       "==============================================================================\n",
       "Dep. Variable:                      y   R-squared:                       0.008\n",
       "Model:                            OLS   Adj. R-squared:                  0.005\n",
       "Method:                 Least Squares   F-statistic:                     2.555\n",
       "Date:                Fri, 19 May 2017   Prob (F-statistic):            0.00636\n",
       "Time:                        10:13:22   Log-Likelihood:                -32906.\n",
       "No. Observations:                2987   AIC:                         6.583e+04\n",
       "Df Residuals:                    2977   BIC:                         6.589e+04\n",
       "Df Model:                           9                                         \n",
       "Covariance Type:            nonrobust                                         \n",
       "=============================================================================================\n",
       "                                coef    std err          t      P>|t|      [95.0% Conf. Int.]\n",
       "---------------------------------------------------------------------------------------------\n",
       "const                      -131.6642   1756.858     -0.075      0.940     -3576.443  3313.114\n",
       "imdb_score                   20.3356    281.325      0.072      0.942      -531.275   571.946\n",
       "real_budget               -1.814e-05   5.93e-06     -3.058      0.002     -2.98e-05 -6.51e-06\n",
       "num_critic_for_reviews       13.3255      3.352      3.976      0.000         6.754    19.897\n",
       "director_facebook_likes      -0.0420      0.083     -0.504      0.614        -0.205     0.121\n",
       "actor_1_facebook_likes        0.1299      0.234      0.555      0.579        -0.329     0.589\n",
       "actor_2_facebook_likes        0.1147      0.247      0.464      0.643        -0.370     0.599\n",
       "actor_3_facebook_likes        0.2002      0.384      0.521      0.602        -0.553     0.954\n",
       "movie_facebook_likes         -0.0418      0.018     -2.330      0.020        -0.077    -0.007\n",
       "cast_total_facebook_likes    -0.1436      0.233     -0.615      0.538        -0.601     0.314\n",
       "==============================================================================\n",
       "Omnibus:                     8866.613   Durbin-Watson:                   2.005\n",
       "Prob(Omnibus):                  0.000   Jarque-Bera (JB):        453170322.937\n",
       "Skew:                          41.534   Prob(JB):                         0.00\n",
       "Kurtosis:                    1909.368   Cond. No.                     4.76e+08\n",
       "==============================================================================\n",
       "\n",
       "Warnings:\n",
       "[1] Standard Errors assume that the covariance matrix of the errors is correctly specified.\n",
       "[2] The condition number is large, 4.76e+08. This might indicate that there are\n",
       "strong multicollinearity or other numerical problems.\n",
       "\"\"\""
      ]
     },
     "execution_count": 24,
     "metadata": {},
     "output_type": "execute_result"
    }
   ],
   "source": [
    "y2_column = 'roi'\n",
    "\n",
    "X = [list(row.values) for _, row in new_data[x_columns].iterrows()]\n",
    "X_OLS = sm.add_constant(X)\n",
    "y2 = new_data[y2_column].values\n",
    "\n",
    "model = sm.OLS(y2, X_OLS)\n",
    "model.data.xnames = ['const'] + x_columns\n",
    "results = model.fit()\n",
    "results.summary()"
   ]
  },
  {
   "cell_type": "markdown",
   "metadata": {},
   "source": [
    "Performing linear regression on ROI yielded strange results. For example some significant variables that stood out for this model were `real_budget`, and `movie_facebook_likes`. For `real_budget`, holding all other predictors constant, a dollar increase leads to over an 18,000% decrease in the ROI of a film. This seems very inaccurate. Also, for every additional `movie_facebook_likes` a film receives, holding all other predictors constant, leads to a 0.05% reduction in the film's ROI. This seems very counter-intuitive, because we expected that a film with more facebook likes would lead to more success at the box office.\n",
    "\n",
    "In conclusion, performing linear regression on ROI didn't yield the best results and the model doesn't fit our data very well. "
   ]
  },
  {
   "cell_type": "markdown",
   "metadata": {},
   "source": [
    "### Decision Trees and Cross Validation"
   ]
  },
  {
   "cell_type": "markdown",
   "metadata": {},
   "source": [
    "Next we are going to use **decision trees** and **cross validation**.\n",
    "\n",
    "Decision trees are a type of machine learning classifier that attempts to predict a value based on a set of decision rules. Decision trees learn from data in order to create a set of decision rules (if-then-else statements) that predicts values.  \n",
    "\n",
    "Cross validation is a way of testing if our classification works well. We are given a set of data in which we choose to split it up into two groups known as training and testing (normally there is a lot more training data than testing so it's usually skewed towards something like 70/30 split). We will use the training data to allow our decision tree to be built. Then we will use the testing data in order to see how well our classifier does. If it doens't do as well as we expected, we may have overfitted our classifier on the training data and so we may need to prune the tree by changing specific parameters. This is the basic rundown for cross validation.\n",
    "\n",
    "You can learn more about these machine learning concepts and their Python implementation from the sklearn documentation for [Decision Trees](http://scikit-learn.org/stable/modules/tree.html) and [Cross Validation](http://scikit-learn.org/stable/modules/cross_validation.html)."
   ]
  },
  {
   "cell_type": "markdown",
   "metadata": {},
   "source": [
    "Let's train a decision tree classifier on our data."
   ]
  },
  {
   "cell_type": "code",
   "execution_count": 25,
   "metadata": {
    "collapsed": false
   },
   "outputs": [
    {
     "data": {
      "text/plain": [
       "-0.086923009596375334"
      ]
     },
     "execution_count": 25,
     "metadata": {},
     "output_type": "execute_result"
    }
   ],
   "source": [
    "X_train, X_val, y_train, y_val = train_test_split(X, y, test_size = 0.2)\n",
    "\n",
    "classifier = tree.DecisionTreeRegressor(min_samples_split=3)\n",
    "y_pred = classifier.fit(X_train, y_train).predict(X_val)\n",
    "# accuracy_training = accuracy_score(y_val, y_pred)\n",
    "r2 = r2_score(y_val, y_pred)\n",
    "r2"
   ]
  },
  {
   "cell_type": "markdown",
   "metadata": {},
   "source": [
    "A very low r-sqared score also means that this model doesn't fit our data very well. All in all, linear regression on `real_domestic_gross` yielded the most interesting results relatively, while the other models didn't quite fit our data."
   ]
  },
  {
   "cell_type": "markdown",
   "metadata": {},
   "source": [
    "## V. Insight"
   ]
  },
  {
   "cell_type": "markdown",
   "metadata": {
    "collapsed": true
   },
   "source": [
    "Our analysis seems to indicate that IMDB score correlates positively with a film's real domestic gross at the box office, as well as budget, and cast facebook likes. More research has to be conducted to yield models that fit our data better and predict a film's gross in a more sensible and intuitive way. Some next steps could be to construct a model based on film genre, and see if that impacts a film's gross and ROI, and to what extent. Also, what features do films with a high ROI and gross have in common? All in all, this study shed some interesting light on the economics and patterns behind films produced in the USA.  "
   ]
  },
  {
   "cell_type": "markdown",
   "metadata": {},
   "source": [
    "## VI. Resources"
   ]
  },
  {
   "cell_type": "markdown",
   "metadata": {},
   "source": [
    "Our tutorial introduced a only some of the packages and libraries available in Python. Much more details are available below:\n",
    "\n",
    "* BeautifulSoup: https://www.crummy.com/software/BeautifulSoup/\n",
    "* Requests: http://docs.python-requests.org/en/master/\n",
    "* pandas: http://pandas.pydata.org/ \n",
    "* NumPy: http://www.numpy.org/\n",
    "* ggplot http://ggplot.yhathq.com/\n",
    "* Seaborn: https://seaborn.pydata.org/\n",
    "* Matplotlib: https://matplotlib.org/\n",
    "* scikit-learn: http://scikit-learn.org"
   ]
  }
 ],
 "metadata": {
  "kernelspec": {
   "display_name": "Python 3",
   "language": "python",
   "name": "python3"
  },
  "language_info": {
   "codemirror_mode": {
    "name": "ipython",
    "version": 3
   },
   "file_extension": ".py",
   "mimetype": "text/x-python",
   "name": "python",
   "nbconvert_exporter": "python",
   "pygments_lexer": "ipython3",
   "version": "3.6.0"
  }
 },
 "nbformat": 4,
 "nbformat_minor": 2
}
